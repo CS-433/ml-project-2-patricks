{
 "cells": [
  {
   "cell_type": "code",
   "execution_count": null,
   "id": "a805e6b7",
   "metadata": {
    "gradient": {
     "editing": false,
     "id": "a805e6b7",
     "kernelId": "60bf829a-817f-404b-ae4f-7dc622d1116a"
    }
   },
   "outputs": [
    {
     "name": "stdout",
     "output_type": "stream",
     "text": [
      "PyTorch Version:  1.10.0a0+0aef44c\n"
     ]
    }
   ],
   "source": [
    "import torch\n",
    "import torch.nn as nn\n",
    "import torch.optim as optim\n",
    "import datasets as DS\n",
    "import copy\n",
    "import os\n",
    "import time\n",
    "import logging\n",
    "print(\"PyTorch Version: \",torch.__version__)"
   ]
  },
  {
   "cell_type": "code",
   "execution_count": null,
   "id": "f7576b5a",
   "metadata": {
    "gradient": {
     "editing": false,
     "id": "f7576b5a",
     "kernelId": "60bf829a-817f-404b-ae4f-7dc622d1116a"
    }
   },
   "outputs": [],
   "source": [
    "'''\n",
    "params:\n",
    "  patch_size: patch_size for dataLoader\n",
    "  batch_size: batch number for each training epoch\n",
    "  workers: cores for loading the data, default 8\n",
    "return:\n",
    "  dataLoader: a dict with key 'train' 'val' 'test' for each phase in training and evaluating model\n",
    "'''\n",
    "def getDataSet(patch_size, batch_size, workers=8):\n",
    "    # build a class to satisfy the input of loader producer provided by the paper\n",
    "    class Args:\n",
    "      dataset_path = \"/storage/data/classification_dataset_balanced/\"\n",
    "      patch_size = 1\n",
    "      batch_size = 1\n",
    "      workers = 1\n",
    "      def __init__(self, patch_size, batch_size, workers):\n",
    "        self.patch_size = patch_size\n",
    "        self.batch_size = batch_size\n",
    "        self.workers = workers\n",
    "    args = Args(patch_size, batch_size, workers)\n",
    "    # use the loader producer from the paper\n",
    "    dataset = DS.CODEBRIM(torch.cuda.is_available(),args)\n",
    "    dataLoaders = {'train': dataset.train_loader, 'val': dataset.val_loader, 'test':dataset.test_loader}\n",
    "    return dataLoaders"
   ]
  },
  {
   "cell_type": "code",
   "execution_count": null,
   "id": "565b138a",
   "metadata": {
    "gradient": {
     "editing": false,
     "id": "565b138a",
     "kernelId": "60bf829a-817f-404b-ae4f-7dc622d1116a"
    }
   },
   "outputs": [],
   "source": [
    "class EfficientNet(nn.Module):\n",
    "  def __init__(self):\n",
    "    super(EfficientNet, self).__init__()\n",
    "#     self.model = torch.hub.load('pytorch/vision:v0.10.0', 'alexnet', pretrained = False)\n",
    "    # load efficient net from torchhub\n",
    "    self.model = torch.hub.load('NVIDIA/DeepLearningExamples:torchhub', 'nvidia_efficientnet', type='efficientnet-widese-b0')\n",
    "    self.model.classifier[3] = nn.Linear(1280,6) #modify the output layer\n",
    "  def forward(self, x):\n",
    "    x = self.model(x)\n",
    "    x = torch.sigmoid(x) # the output from model should be fed into sigmoid to get the probability \n",
    "    return x\n",
    "  def _initialize_weights(self):\n",
    "    print(\"initialize parameters\")\n",
    "    for m in self.modules():\n",
    "      if isinstance(m, nn.Conv2d):\n",
    "        #using kaiming's method to initialize convolution layer parameters as requested in the paper\n",
    "        nn.init.kaiming_normal_(m.weight, mode='fan_out', nonlinearity='relu') \n",
    "        if m.bias is not None:\n",
    "            nn.init.constant_(m.bias, 0)\n",
    "      elif isinstance(m, nn.Linear):\n",
    "        #other parameters use normal distribution to initialize\n",
    "        nn.init.normal_(m.weight, 0, 0.01)  \n",
    "        nn.init.constant_(m.bias, 0)"
   ]
  },
  {
   "cell_type": "code",
   "execution_count": null,
   "id": "be5c39b3-eee5-4fc9-97f2-790ed233205d",
   "metadata": {
    "collapsed": false,
    "gradient": {
     "editing": false,
     "id": "be5c39b3-eee5-4fc9-97f2-790ed233205d",
     "kernelId": "60bf829a-817f-404b-ae4f-7dc622d1116a",
     "source_hidden": false
    }
   },
   "outputs": [],
   "source": [
    "'''\n",
    "print training log -loss -accuracy -learning rate\n",
    "params:\n",
    "    output_dir: log output path\n",
    "return:\n",
    "    logger: logger.info() to print log into file\n",
    "'''\n",
    "def log_creater(output_dir):\n",
    "    if not os.path.exists(output_dir):\n",
    "        os.makedirs(output_dir)\n",
    "    log_name = '{}.log'.format(time.strftime('%Y-%m-%d-%H-%M'))\n",
    "    final_log_file = os.path.join(output_dir,log_name)\n",
    " \n",
    " \n",
    "    # creat a log\n",
    "    log = logging.getLogger('train_log')\n",
    "    log.setLevel(logging.DEBUG)\n",
    " \n",
    "    # FileHandler\n",
    "    file = logging.FileHandler(final_log_file)\n",
    "    file.setLevel(logging.DEBUG)\n",
    " \n",
    "    # StreamHandler\n",
    "    stream = logging.StreamHandler()\n",
    "    stream.setLevel(logging.DEBUG)\n",
    " \n",
    "    # Formatter\n",
    "    formatter = logging.Formatter(\n",
    "        '[%(asctime)s][line: %(lineno)d] ==> %(message)s')\n",
    " \n",
    "    # setFormatter\n",
    "    file.setFormatter(formatter)\n",
    "    stream.setFormatter(formatter)\n",
    "\n",
    "     # addHandler\n",
    "    log.addHandler(file)\n",
    "    log.addHandler(stream)\n",
    " \n",
    "    log.info('creating {}'.format(final_log_file))\n",
    "    return log"
   ]
  },
  {
   "cell_type": "code",
   "execution_count": null,
   "id": "1aa3e7d7-70e0-4364-9d3c-358600a13727",
   "metadata": {
    "collapsed": false,
    "gradient": {
     "editing": false,
     "id": "1aa3e7d7-70e0-4364-9d3c-358600a13727",
     "kernelId": "60bf829a-817f-404b-ae4f-7dc622d1116a",
     "source_hidden": false
    }
   },
   "outputs": [],
   "source": [
    "'''\n",
    "train a model according to the given parameters\n",
    "params:\n",
    "    root_dir: root_path\n",
    "    model: model for training\n",
    "    logger: return from log_creater()\n",
    "    lr_h: max(initial) learning rate\n",
    "    lr_l: min(final) learing rate\n",
    "    dataLoaders: return from getDataSet()\n",
    "    num_epochs: training epochs\n",
    "    resume: bool, save checkpoint every 10 epoch when the training interrupted, load checkpoint to resume\n",
    "    checkpoint: path for checkpoints, valid when resume == True\n",
    "    device: training device\n",
    "'''\n",
    "\n",
    "def train(root_dir, model, logger, lr_h, lr_l, dataLoaders, num_epochs = 300, resume=False, \n",
    "    checkpoint = None, device = \"cpu\"):\n",
    "    start_epoch = 1\n",
    "    optimizer = optim.SGD(model.parameters(), lr=lr_h, momentum=0.9)\n",
    "    # scheduler = optim.lr_scheduler.CosineAnnealingWarmRestarts(optimizer,T_0=10, T_mult=2, eta_min=lr_l)\n",
    "    scheduler = optim.lr_scheduler.CosineAnnealingLR(optimizer, T_max = num_epochs, eta_min=lr_l)\n",
    "    best_acc_hard = 0.0\n",
    "    best_acc_soft = 0.0\n",
    "    criterion = torch.nn.BCELoss()\n",
    "    save_path_hard = root_dir + '/hard.pth'\n",
    "    save_path_soft = root_dir + '/soft.pth'\n",
    "    iters = len(dataLoader['train'])\n",
    "    if resume:\n",
    "        path_checkpoint = root_dir + checkpoint  # checkpoint path\n",
    "        checkpoint = torch.load(path_checkpoint)  # load checkpoint\n",
    "        model.load_state_dict(checkpoint['net'])  # load model\n",
    "        scheduler.load_state_dict(checkpoint['scheduler'])\n",
    "        optimizer.load_state_dict(checkpoint['optimizer'])  # load optimizer\n",
    "        start_epoch = checkpoint['epoch']  # load epoch\n",
    "        best_acc_soft = checkpoint['best_acc_soft']\n",
    "        best_acc_hard = checkpoint['best_acc_hard']\n",
    "\n",
    "\n",
    "    for epoch in range(start_epoch, num_epochs+1):  # loop over the dataset multiple times\n",
    "\n",
    "        if epoch % 10 == 0:\n",
    "            checkpoint = {\n",
    "            \"net\": model.state_dict(),\n",
    "            'optimizer': optimizer.state_dict(),\n",
    "            'scheduler': scheduler.state_dict(),\n",
    "            \"epoch\": epoch,\n",
    "            \"best_acc_soft\": best_acc_soft,\n",
    "            \"best_acc_hard\": best_acc_hard\n",
    "            }\n",
    "            if not os.path.isdir(root_dir + \"/checkpoint\"):\n",
    "                os.mkdir(root_dir + \"/checkpoint\")\n",
    "            torch.save(checkpoint, root_dir + '/checkpoint/ckpt_best_%s.pth' %(str(epoch)))\n",
    "        #an epoch is divided into two phases train and evaluate\n",
    "        for phase in ['train', 'val']:\n",
    "            if phase == 'train':\n",
    "                model.train()  # Set model to training mode\n",
    "            else:\n",
    "                model.eval()   # Set model to evaluate mode\n",
    "\n",
    "            running_loss = 0.0\n",
    "            running_corrects_hard = 0\n",
    "            running_corrects_soft = 0\n",
    "\n",
    "            for i, sample in enumerate(dataLoaders[phase]):\n",
    "                inputs, labels = sample\n",
    "                inputs = inputs.to(device)\n",
    "                labels = labels.to(device)\n",
    "                # zero the parameter gradients\n",
    "                optimizer.zero_grad()\n",
    "\n",
    "                # forward + backward + optimize\n",
    "                outputs = model(inputs)\n",
    "                loss = criterion(outputs, labels)\n",
    "\n",
    "                outputs = outputs >= 0.5  # binarizing sigmoid output by thresholding with 0.5\n",
    "                equality_matrix = (outputs.float() == labels).float()\n",
    "                hard = torch.sum(torch.prod(equality_matrix, dim=1))\n",
    "                soft = torch.mean(equality_matrix)\n",
    "                if phase == 'train':\n",
    "                    loss.backward()\n",
    "                    optimizer.step()\n",
    "                #adjustment in scheduler\n",
    "                    scheduler.step(epoch + i / iters)\n",
    "        \n",
    "                running_loss += loss.item() * inputs.size(0)\n",
    "                running_corrects_hard += hard.item()\n",
    "                running_corrects_soft += soft.item()\n",
    "\n",
    "            #calculate loss and accuracy for the epoch\n",
    "            epoch_loss = running_loss / len(dataLoaders[phase].dataset)\n",
    "            epoch_acc_hard = running_corrects_hard / len(dataLoaders[phase].dataset)\n",
    "            epoch_acc_soft = running_corrects_soft / len(dataLoaders[phase])\n",
    "            logger.info('{} Epoch:[{}/{}]\\t loss={:.5f}\\t acc_hard={:.3f} acc_soft={:.3f} lr={:.7f}'.format\\\n",
    "            (phase, epoch , num_epochs, epoch_loss, epoch_acc_hard, epoch_acc_soft, \\\n",
    "            optimizer.state_dict()['param_groups'][0]['lr'] ))\n",
    "\n",
    "            # deep copy the model\n",
    "            if  phase == 'val' and epoch_acc_hard > best_acc_hard:\n",
    "                best_acc_hard = epoch_acc_hard\n",
    "                #   best_model_wts = copy.deepcopy(model.state_dict())\n",
    "                torch.save(model.state_dict(), save_path_hard)\n",
    "\n",
    "            if  phase == 'val' and epoch_acc_soft > best_acc_soft:\n",
    "                best_acc_soft = epoch_acc_soft\n",
    "                #   best_model_wts = copy.deepcopy(model.state_dict())\n",
    "                torch.save(model.state_dict(), save_path_soft)\n",
    "    #evaluate\n",
    "    model = EfficientNet()\n",
    "    model.load_state_dict(torch.load(root_dir + '/hard.pth'))\n",
    "    model.to(device)\n",
    "    model.eval()\n",
    "    logger.info(\"hard:--------------------------------------\")\n",
    "    evaluation(dataLoaders, device, model, logger)\n",
    "\n",
    "    model.load_state_dict(torch.load(root_dir + '/soft.pth'))\n",
    "    model.to(device)\n",
    "    model.eval()\n",
    "    logger.info(\"soft:--------------------------------------\")\n",
    "    evaluation(dataLoaders, device, model, logger)\n",
    "\n",
    "\n",
    "\n",
    "'''\n",
    "evaluate a model\n",
    "params:\n",
    "    dataLoaders: return from getDataSet()\n",
    "    device: training device\n",
    "    model: trained model to evaluate\n",
    "    logger: return from log_creater()\n",
    "'''\n",
    "\n",
    "\n",
    "def evaluation(dataLoaders, device, model, logger):\n",
    "    criterion = torch.nn.BCELoss()\n",
    "    # calculate loss and accuracy for train data, evaluate data and test data\n",
    "    for phase in ['train', 'val', 'test']:\n",
    "        running_loss = 0.0\n",
    "        running_corrects_hard = 0\n",
    "        running_corrects_soft = 0\n",
    "\n",
    "      \n",
    "        for i, sample in enumerate(dataLoaders[phase]):\n",
    "            inputs, labels = sample\n",
    "            inputs = inputs.to(device)\n",
    "            labels = labels.to(device)\n",
    "            outputs = model(inputs)\n",
    "            loss = criterion(outputs, labels)\n",
    "\n",
    "            outputs = outputs >= 0.5  # binarizing sigmoid output by thresholding with 0.5\n",
    "            equality_matrix = (outputs.float() == labels).float()\n",
    "            hard = torch.sum(torch.prod(equality_matrix, dim=1))\n",
    "            soft = torch.mean(equality_matrix)\n",
    "            running_loss += loss.item() * inputs.size(0)\n",
    "            running_corrects_hard += hard.item()\n",
    "            running_corrects_soft += soft.item()\n",
    "\n",
    "        epoch_loss = running_loss / len(dataLoaders[phase].dataset)\n",
    "        epoch_acc_hard = running_corrects_hard / len(dataLoaders[phase].dataset)\n",
    "        epoch_acc_soft = running_corrects_soft / len(dataLoaders[phase])\n",
    "        logger.info(\"{}: loss:{:.5f} acc_soft:{:.3f} acc_hard:{:.3f}\".format(phase, epoch_loss, epoch_acc_soft, epoch_acc_hard))     \n",
    "\n"
   ]
  },
  {
   "cell_type": "code",
   "execution_count": null,
   "id": "41e6f8fe-436e-45d3-8476-846c196e3906",
   "metadata": {
    "collapsed": false,
    "gradient": {
     "editing": false,
     "id": "41e6f8fe-436e-45d3-8476-846c196e3906",
     "kernelId": "60bf829a-817f-404b-ae4f-7dc622d1116a",
     "source_hidden": false
    }
   },
   "outputs": [
    {
     "name": "stderr",
     "output_type": "stream",
     "text": [
      "[2021-12-02 09:45:18,723][line: 32] ==> creating ./train_log/2021-12-02-09-45.log\n"
     ]
    },
    {
     "name": "stderr",
     "output_type": "stream",
     "text": [
      "[2021-12-02 09:45:21,501][line: 14] ==> batch_size:64\n"
     ]
    },
    {
     "name": "stderr",
     "output_type": "stream",
     "text": [
      "[2021-12-02 09:45:21,502][line: 15] ==> patch_size:224\n"
     ]
    },
    {
     "name": "stderr",
     "output_type": "stream",
     "text": [
      "[2021-12-02 09:45:21,502][line: 16] ==> learning rate high:0.05\n"
     ]
    },
    {
     "name": "stderr",
     "output_type": "stream",
     "text": [
      "[2021-12-02 09:45:21,503][line: 17] ==> learning rate low:0.0005\n"
     ]
    },
    {
     "name": "stderr",
     "output_type": "stream",
     "text": [
      "Downloading: \"https://github.com/NVIDIA/DeepLearningExamples/archive/torchhub.zip\" to /root/.cache/torch/hub/torchhub.zip\n"
     ]
    },
    {
     "name": "stderr",
     "output_type": "stream",
     "text": [
      "/root/.cache/torch/hub/NVIDIA_DeepLearningExamples_torchhub/PyTorch/Classification/ConvNets/image_classification/models/efficientnet.py:17: UserWarning: pytorch_quantization module not found, quantization will not be available\n",
      "  warnings.warn(\n",
      "Downloading: \"https://api.ngc.nvidia.com/v2/models/nvidia/efficientnet_widese_b0_pyt_amp/versions/20.12.0/files/nvidia_efficientnet-widese-b0_210412.pth\" to /root/.cache/torch/hub/checkpoints/nvidia_efficientnet-widese-b0_210412.pth\n"
     ]
    },
    {
     "data": {
      "application/vnd.jupyter.widget-view+json": {
       "model_id": "5cecb477dba442edade5831e6de5e52c",
       "version_major": 2,
       "version_minor": 0
      },
      "text/plain": [
       "  0%|          | 0.00/32.4M [00:00<?, ?B/s]"
      ]
     },
     "metadata": {},
     "output_type": "display_data"
    },
    {
     "name": "stdout",
     "output_type": "stream",
     "text": [
      "initialize parameters\n"
     ]
    },
    {
     "name": "stderr",
     "output_type": "stream",
     "text": [
      "[2021-12-02 09:50:39,909][line: 76] ==> train Epoch:[80/300]\t loss=0.08646\t acc_hard=0.863 acc_soft=0.967 lr=0.0477309\n"
     ]
    },
    {
     "name": "stderr",
     "output_type": "stream",
     "text": [
      "WARNING: Logging before flag parsing goes to stderr.\n",
      "I1202 09:50:39.909049 139864777971520 1772499860.py:76] train Epoch:[80/300]\t loss=0.08646\t acc_hard=0.863 acc_soft=0.967 lr=0.0477309\n"
     ]
    },
    {
     "name": "stderr",
     "output_type": "stream",
     "text": [
      "[2021-12-02 09:51:11,319][line: 76] ==> val Epoch:[80/300]\t loss=0.43598\t acc_hard=0.526 acc_soft=0.871 lr=0.0477309\n"
     ]
    },
    {
     "name": "stderr",
     "output_type": "stream",
     "text": [
      "I1202 09:51:11.319345 139864777971520 1772499860.py:76] val Epoch:[80/300]\t loss=0.43598\t acc_hard=0.526 acc_soft=0.871 lr=0.0477309\n"
     ]
    },
    {
     "name": "stderr",
     "output_type": "stream",
     "text": [
      "[2021-12-02 09:51:42,702][line: 76] ==> train Epoch:[81/300]\t loss=0.08501\t acc_hard=0.865 acc_soft=0.967 lr=0.0473071\n"
     ]
    },
    {
     "name": "stderr",
     "output_type": "stream",
     "text": [
      "I1202 09:51:42.702563 139864777971520 1772499860.py:76] train Epoch:[81/300]\t loss=0.08501\t acc_hard=0.865 acc_soft=0.967 lr=0.0473071\n"
     ]
    },
    {
     "name": "stderr",
     "output_type": "stream",
     "text": [
      "[2021-12-02 09:51:47,021][line: 76] ==> val Epoch:[81/300]\t loss=0.47359\t acc_hard=0.531 acc_soft=0.865 lr=0.0473071\n"
     ]
    },
    {
     "name": "stderr",
     "output_type": "stream",
     "text": [
      "I1202 09:51:47.021209 139864777971520 1772499860.py:76] val Epoch:[81/300]\t loss=0.47359\t acc_hard=0.531 acc_soft=0.865 lr=0.0473071\n"
     ]
    },
    {
     "name": "stderr",
     "output_type": "stream",
     "text": [
      "[2021-12-02 09:52:19,028][line: 76] ==> train Epoch:[82/300]\t loss=0.08954\t acc_hard=0.863 acc_soft=0.967 lr=0.0468493\n"
     ]
    },
    {
     "name": "stderr",
     "output_type": "stream",
     "text": [
      "I1202 09:52:19.028620 139864777971520 1772499860.py:76] train Epoch:[82/300]\t loss=0.08954\t acc_hard=0.863 acc_soft=0.967 lr=0.0468493\n"
     ]
    },
    {
     "name": "stderr",
     "output_type": "stream",
     "text": [
      "[2021-12-02 09:52:23,317][line: 76] ==> val Epoch:[82/300]\t loss=0.72150\t acc_hard=0.409 acc_soft=0.803 lr=0.0468493\n"
     ]
    },
    {
     "name": "stderr",
     "output_type": "stream",
     "text": [
      "I1202 09:52:23.317173 139864777971520 1772499860.py:76] val Epoch:[82/300]\t loss=0.72150\t acc_hard=0.409 acc_soft=0.803 lr=0.0468493\n"
     ]
    },
    {
     "name": "stderr",
     "output_type": "stream",
     "text": [
      "[2021-12-02 09:52:55,201][line: 76] ==> train Epoch:[83/300]\t loss=0.08498\t acc_hard=0.867 acc_soft=0.968 lr=0.0463582\n"
     ]
    },
    {
     "name": "stderr",
     "output_type": "stream",
     "text": [
      "I1202 09:52:55.201900 139864777971520 1772499860.py:76] train Epoch:[83/300]\t loss=0.08498\t acc_hard=0.867 acc_soft=0.968 lr=0.0463582\n"
     ]
    },
    {
     "name": "stderr",
     "output_type": "stream",
     "text": [
      "[2021-12-02 09:52:59,508][line: 76] ==> val Epoch:[83/300]\t loss=0.45051\t acc_hard=0.562 acc_soft=0.874 lr=0.0463582\n"
     ]
    },
    {
     "name": "stderr",
     "output_type": "stream",
     "text": [
      "I1202 09:52:59.508448 139864777971520 1772499860.py:76] val Epoch:[83/300]\t loss=0.45051\t acc_hard=0.562 acc_soft=0.874 lr=0.0463582\n"
     ]
    },
    {
     "name": "stderr",
     "output_type": "stream",
     "text": [
      "[2021-12-02 09:53:31,959][line: 76] ==> train Epoch:[84/300]\t loss=0.07494\t acc_hard=0.875 acc_soft=0.972 lr=0.0458346\n"
     ]
    },
    {
     "name": "stderr",
     "output_type": "stream",
     "text": [
      "I1202 09:53:31.959476 139864777971520 1772499860.py:76] train Epoch:[84/300]\t loss=0.07494\t acc_hard=0.875 acc_soft=0.972 lr=0.0458346\n"
     ]
    },
    {
     "name": "stderr",
     "output_type": "stream",
     "text": [
      "[2021-12-02 09:53:36,245][line: 76] ==> val Epoch:[84/300]\t loss=0.55987\t acc_hard=0.494 acc_soft=0.846 lr=0.0458346\n"
     ]
    },
    {
     "name": "stderr",
     "output_type": "stream",
     "text": [
      "I1202 09:53:36.245888 139864777971520 1772499860.py:76] val Epoch:[84/300]\t loss=0.55987\t acc_hard=0.494 acc_soft=0.846 lr=0.0458346\n"
     ]
    },
    {
     "name": "stderr",
     "output_type": "stream",
     "text": [
      "[2021-12-02 09:54:09,073][line: 76] ==> train Epoch:[85/300]\t loss=0.06963\t acc_hard=0.887 acc_soft=0.974 lr=0.0452792\n"
     ]
    },
    {
     "name": "stderr",
     "output_type": "stream",
     "text": [
      "I1202 09:54:09.073995 139864777971520 1772499860.py:76] train Epoch:[85/300]\t loss=0.06963\t acc_hard=0.887 acc_soft=0.974 lr=0.0452792\n"
     ]
    },
    {
     "name": "stderr",
     "output_type": "stream",
     "text": [
      "[2021-12-02 09:54:13,284][line: 76] ==> val Epoch:[85/300]\t loss=0.42581\t acc_hard=0.515 acc_soft=0.867 lr=0.0452792\n"
     ]
    },
    {
     "name": "stderr",
     "output_type": "stream",
     "text": [
      "I1202 09:54:13.284282 139864777971520 1772499860.py:76] val Epoch:[85/300]\t loss=0.42581\t acc_hard=0.515 acc_soft=0.867 lr=0.0452792\n"
     ]
    },
    {
     "name": "stderr",
     "output_type": "stream",
     "text": [
      "[2021-12-02 09:54:44,805][line: 76] ==> train Epoch:[86/300]\t loss=0.06330\t acc_hard=0.893 acc_soft=0.976 lr=0.0446930\n"
     ]
    },
    {
     "name": "stderr",
     "output_type": "stream",
     "text": [
      "I1202 09:54:44.805382 139864777971520 1772499860.py:76] train Epoch:[86/300]\t loss=0.06330\t acc_hard=0.893 acc_soft=0.976 lr=0.0446930\n"
     ]
    },
    {
     "name": "stderr",
     "output_type": "stream",
     "text": [
      "[2021-12-02 09:54:49,159][line: 76] ==> val Epoch:[86/300]\t loss=0.39099\t acc_hard=0.537 acc_soft=0.873 lr=0.0446930\n"
     ]
    },
    {
     "name": "stderr",
     "output_type": "stream",
     "text": [
      "I1202 09:54:49.159925 139864777971520 1772499860.py:76] val Epoch:[86/300]\t loss=0.39099\t acc_hard=0.537 acc_soft=0.873 lr=0.0446930\n"
     ]
    },
    {
     "name": "stderr",
     "output_type": "stream",
     "text": [
      "[2021-12-02 09:55:20,288][line: 76] ==> train Epoch:[87/300]\t loss=0.06536\t acc_hard=0.892 acc_soft=0.975 lr=0.0440768\n"
     ]
    },
    {
     "name": "stderr",
     "output_type": "stream",
     "text": [
      "I1202 09:55:20.288868 139864777971520 1772499860.py:76] train Epoch:[87/300]\t loss=0.06536\t acc_hard=0.892 acc_soft=0.975 lr=0.0440768\n"
     ]
    },
    {
     "name": "stderr",
     "output_type": "stream",
     "text": [
      "[2021-12-02 09:55:24,603][line: 76] ==> val Epoch:[87/300]\t loss=0.48513\t acc_hard=0.544 acc_soft=0.867 lr=0.0440768\n"
     ]
    },
    {
     "name": "stderr",
     "output_type": "stream",
     "text": [
      "I1202 09:55:24.603613 139864777971520 1772499860.py:76] val Epoch:[87/300]\t loss=0.48513\t acc_hard=0.544 acc_soft=0.867 lr=0.0440768\n"
     ]
    },
    {
     "name": "stderr",
     "output_type": "stream",
     "text": [
      "[2021-12-02 09:55:57,174][line: 76] ==> train Epoch:[88/300]\t loss=0.06938\t acc_hard=0.886 acc_soft=0.974 lr=0.0434315\n"
     ]
    },
    {
     "name": "stderr",
     "output_type": "stream",
     "text": [
      "I1202 09:55:57.174455 139864777971520 1772499860.py:76] train Epoch:[88/300]\t loss=0.06938\t acc_hard=0.886 acc_soft=0.974 lr=0.0434315\n"
     ]
    },
    {
     "name": "stderr",
     "output_type": "stream",
     "text": [
      "[2021-12-02 09:56:01,478][line: 76] ==> val Epoch:[88/300]\t loss=0.58183\t acc_hard=0.513 acc_soft=0.844 lr=0.0434315\n"
     ]
    },
    {
     "name": "stderr",
     "output_type": "stream",
     "text": [
      "I1202 09:56:01.478344 139864777971520 1772499860.py:76] val Epoch:[88/300]\t loss=0.58183\t acc_hard=0.513 acc_soft=0.844 lr=0.0434315\n"
     ]
    },
    {
     "name": "stderr",
     "output_type": "stream",
     "text": [
      "[2021-12-02 09:56:33,066][line: 76] ==> train Epoch:[89/300]\t loss=0.07327\t acc_hard=0.886 acc_soft=0.973 lr=0.0427582\n"
     ]
    },
    {
     "name": "stderr",
     "output_type": "stream",
     "text": [
      "I1202 09:56:33.066664 139864777971520 1772499860.py:76] train Epoch:[89/300]\t loss=0.07327\t acc_hard=0.886 acc_soft=0.973 lr=0.0427582\n"
     ]
    },
    {
     "name": "stderr",
     "output_type": "stream",
     "text": [
      "[2021-12-02 09:56:37,363][line: 76] ==> val Epoch:[89/300]\t loss=0.78404\t acc_hard=0.433 acc_soft=0.813 lr=0.0427582\n"
     ]
    },
    {
     "name": "stderr",
     "output_type": "stream",
     "text": [
      "I1202 09:56:37.363369 139864777971520 1772499860.py:76] val Epoch:[89/300]\t loss=0.78404\t acc_hard=0.433 acc_soft=0.813 lr=0.0427582\n"
     ]
    },
    {
     "name": "stderr",
     "output_type": "stream",
     "text": [
      "[2021-12-02 09:57:09,498][line: 76] ==> train Epoch:[90/300]\t loss=0.06121\t acc_hard=0.897 acc_soft=0.977 lr=0.0420579\n"
     ]
    },
    {
     "name": "stderr",
     "output_type": "stream",
     "text": [
      "I1202 09:57:09.498010 139864777971520 1772499860.py:76] train Epoch:[90/300]\t loss=0.06121\t acc_hard=0.897 acc_soft=0.977 lr=0.0420579\n"
     ]
    },
    {
     "name": "stderr",
     "output_type": "stream",
     "text": [
      "[2021-12-02 09:57:13,816][line: 76] ==> val Epoch:[90/300]\t loss=0.42577\t acc_hard=0.502 acc_soft=0.859 lr=0.0420579\n"
     ]
    },
    {
     "name": "stderr",
     "output_type": "stream",
     "text": [
      "I1202 09:57:13.816443 139864777971520 1772499860.py:76] val Epoch:[90/300]\t loss=0.42577\t acc_hard=0.502 acc_soft=0.859 lr=0.0420579\n"
     ]
    },
    {
     "name": "stderr",
     "output_type": "stream",
     "text": [
      "[2021-12-02 09:57:45,809][line: 76] ==> train Epoch:[91/300]\t loss=0.06124\t acc_hard=0.898 acc_soft=0.977 lr=0.0413317\n"
     ]
    },
    {
     "name": "stderr",
     "output_type": "stream",
     "text": [
      "I1202 09:57:45.809320 139864777971520 1772499860.py:76] train Epoch:[91/300]\t loss=0.06124\t acc_hard=0.898 acc_soft=0.977 lr=0.0413317\n"
     ]
    },
    {
     "name": "stderr",
     "output_type": "stream",
     "text": [
      "[2021-12-02 09:57:50,113][line: 76] ==> val Epoch:[91/300]\t loss=0.45665\t acc_hard=0.571 acc_soft=0.880 lr=0.0413317\n"
     ]
    },
    {
     "name": "stderr",
     "output_type": "stream",
     "text": [
      "I1202 09:57:50.113795 139864777971520 1772499860.py:76] val Epoch:[91/300]\t loss=0.45665\t acc_hard=0.571 acc_soft=0.880 lr=0.0413317\n"
     ]
    },
    {
     "name": "stderr",
     "output_type": "stream",
     "text": [
      "[2021-12-02 09:58:21,991][line: 76] ==> train Epoch:[92/300]\t loss=0.06240\t acc_hard=0.902 acc_soft=0.977 lr=0.0405807\n"
     ]
    },
    {
     "name": "stderr",
     "output_type": "stream",
     "text": [
      "I1202 09:58:21.991759 139864777971520 1772499860.py:76] train Epoch:[92/300]\t loss=0.06240\t acc_hard=0.902 acc_soft=0.977 lr=0.0405807\n"
     ]
    },
    {
     "name": "stderr",
     "output_type": "stream",
     "text": [
      "[2021-12-02 09:58:26,305][line: 76] ==> val Epoch:[92/300]\t loss=0.44357\t acc_hard=0.567 acc_soft=0.882 lr=0.0405807\n"
     ]
    },
    {
     "name": "stderr",
     "output_type": "stream",
     "text": [
      "I1202 09:58:26.305661 139864777971520 1772499860.py:76] val Epoch:[92/300]\t loss=0.44357\t acc_hard=0.567 acc_soft=0.882 lr=0.0405807\n"
     ]
    },
    {
     "name": "stderr",
     "output_type": "stream",
     "text": [
      "[2021-12-02 09:58:58,659][line: 76] ==> train Epoch:[93/300]\t loss=0.05923\t acc_hard=0.907 acc_soft=0.979 lr=0.0398060\n"
     ]
    },
    {
     "name": "stderr",
     "output_type": "stream",
     "text": [
      "I1202 09:58:58.659324 139864777971520 1772499860.py:76] train Epoch:[93/300]\t loss=0.05923\t acc_hard=0.907 acc_soft=0.979 lr=0.0398060\n"
     ]
    },
    {
     "name": "stderr",
     "output_type": "stream",
     "text": [
      "[2021-12-02 09:59:02,962][line: 76] ==> val Epoch:[93/300]\t loss=0.37415\t acc_hard=0.609 acc_soft=0.892 lr=0.0398060\n"
     ]
    },
    {
     "name": "stderr",
     "output_type": "stream",
     "text": [
      "I1202 09:59:02.962792 139864777971520 1772499860.py:76] val Epoch:[93/300]\t loss=0.37415\t acc_hard=0.609 acc_soft=0.892 lr=0.0398060\n"
     ]
    },
    {
     "name": "stderr",
     "output_type": "stream",
     "text": [
      "[2021-12-02 09:59:34,635][line: 76] ==> train Epoch:[94/300]\t loss=0.05328\t acc_hard=0.915 acc_soft=0.981 lr=0.0390090\n"
     ]
    },
    {
     "name": "stderr",
     "output_type": "stream",
     "text": [
      "I1202 09:59:34.635888 139864777971520 1772499860.py:76] train Epoch:[94/300]\t loss=0.05328\t acc_hard=0.915 acc_soft=0.981 lr=0.0390090\n"
     ]
    },
    {
     "name": "stderr",
     "output_type": "stream",
     "text": [
      "[2021-12-02 09:59:38,918][line: 76] ==> val Epoch:[94/300]\t loss=0.41419\t acc_hard=0.539 acc_soft=0.875 lr=0.0390090\n"
     ]
    },
    {
     "name": "stderr",
     "output_type": "stream",
     "text": [
      "I1202 09:59:38.918337 139864777971520 1772499860.py:76] val Epoch:[94/300]\t loss=0.41419\t acc_hard=0.539 acc_soft=0.875 lr=0.0390090\n"
     ]
    },
    {
     "name": "stderr",
     "output_type": "stream",
     "text": [
      "[2021-12-02 10:00:09,999][line: 76] ==> train Epoch:[95/300]\t loss=0.05062\t acc_hard=0.916 acc_soft=0.982 lr=0.0381907\n"
     ]
    },
    {
     "name": "stderr",
     "output_type": "stream",
     "text": [
      "I1202 10:00:09.999785 139864777971520 1772499860.py:76] train Epoch:[95/300]\t loss=0.05062\t acc_hard=0.916 acc_soft=0.982 lr=0.0381907\n"
     ]
    },
    {
     "name": "stderr",
     "output_type": "stream",
     "text": [
      "[2021-12-02 10:00:14,265][line: 76] ==> val Epoch:[95/300]\t loss=0.70691\t acc_hard=0.412 acc_soft=0.808 lr=0.0381907\n"
     ]
    },
    {
     "name": "stderr",
     "output_type": "stream",
     "text": [
      "I1202 10:00:14.265872 139864777971520 1772499860.py:76] val Epoch:[95/300]\t loss=0.70691\t acc_hard=0.412 acc_soft=0.808 lr=0.0381907\n"
     ]
    },
    {
     "name": "stderr",
     "output_type": "stream",
     "text": [
      "[2021-12-02 10:00:46,583][line: 76] ==> train Epoch:[96/300]\t loss=0.05005\t acc_hard=0.917 acc_soft=0.981 lr=0.0373524\n"
     ]
    },
    {
     "name": "stderr",
     "output_type": "stream",
     "text": [
      "I1202 10:00:46.583507 139864777971520 1772499860.py:76] train Epoch:[96/300]\t loss=0.05005\t acc_hard=0.917 acc_soft=0.981 lr=0.0373524\n"
     ]
    },
    {
     "name": "stderr",
     "output_type": "stream",
     "text": [
      "[2021-12-02 10:00:50,902][line: 76] ==> val Epoch:[96/300]\t loss=0.48774\t acc_hard=0.526 acc_soft=0.864 lr=0.0373524\n"
     ]
    },
    {
     "name": "stderr",
     "output_type": "stream",
     "text": [
      "I1202 10:00:50.902625 139864777971520 1772499860.py:76] val Epoch:[96/300]\t loss=0.48774\t acc_hard=0.526 acc_soft=0.864 lr=0.0373524\n"
     ]
    },
    {
     "name": "stderr",
     "output_type": "stream",
     "text": [
      "[2021-12-02 10:01:22,777][line: 76] ==> train Epoch:[97/300]\t loss=0.04780\t acc_hard=0.920 acc_soft=0.982 lr=0.0364955\n"
     ]
    },
    {
     "name": "stderr",
     "output_type": "stream",
     "text": [
      "I1202 10:01:22.777422 139864777971520 1772499860.py:76] train Epoch:[97/300]\t loss=0.04780\t acc_hard=0.920 acc_soft=0.982 lr=0.0364955\n"
     ]
    },
    {
     "name": "stderr",
     "output_type": "stream",
     "text": [
      "[2021-12-02 10:01:27,102][line: 76] ==> val Epoch:[97/300]\t loss=0.47542\t acc_hard=0.531 acc_soft=0.875 lr=0.0364955\n"
     ]
    },
    {
     "name": "stderr",
     "output_type": "stream",
     "text": [
      "I1202 10:01:27.102762 139864777971520 1772499860.py:76] val Epoch:[97/300]\t loss=0.47542\t acc_hard=0.531 acc_soft=0.875 lr=0.0364955\n"
     ]
    },
    {
     "name": "stderr",
     "output_type": "stream",
     "text": [
      "[2021-12-02 10:01:59,547][line: 76] ==> train Epoch:[98/300]\t loss=0.04072\t acc_hard=0.929 acc_soft=0.985 lr=0.0356212\n"
     ]
    },
    {
     "name": "stderr",
     "output_type": "stream",
     "text": [
      "I1202 10:01:59.547882 139864777971520 1772499860.py:76] train Epoch:[98/300]\t loss=0.04072\t acc_hard=0.929 acc_soft=0.985 lr=0.0356212\n"
     ]
    },
    {
     "name": "stderr",
     "output_type": "stream",
     "text": [
      "[2021-12-02 10:02:03,915][line: 76] ==> val Epoch:[98/300]\t loss=0.43746\t acc_hard=0.536 acc_soft=0.871 lr=0.0356212\n"
     ]
    },
    {
     "name": "stderr",
     "output_type": "stream",
     "text": [
      "I1202 10:02:03.915541 139864777971520 1772499860.py:76] val Epoch:[98/300]\t loss=0.43746\t acc_hard=0.536 acc_soft=0.871 lr=0.0356212\n"
     ]
    },
    {
     "name": "stderr",
     "output_type": "stream",
     "text": [
      "[2021-12-02 10:02:35,835][line: 76] ==> train Epoch:[99/300]\t loss=0.04519\t acc_hard=0.927 acc_soft=0.984 lr=0.0347310\n"
     ]
    },
    {
     "name": "stderr",
     "output_type": "stream",
     "text": [
      "I1202 10:02:35.835331 139864777971520 1772499860.py:76] train Epoch:[99/300]\t loss=0.04519\t acc_hard=0.927 acc_soft=0.984 lr=0.0347310\n"
     ]
    },
    {
     "name": "stderr",
     "output_type": "stream",
     "text": [
      "[2021-12-02 10:02:40,166][line: 76] ==> val Epoch:[99/300]\t loss=0.54303\t acc_hard=0.523 acc_soft=0.858 lr=0.0347310\n"
     ]
    },
    {
     "name": "stderr",
     "output_type": "stream",
     "text": [
      "I1202 10:02:40.166934 139864777971520 1772499860.py:76] val Epoch:[99/300]\t loss=0.54303\t acc_hard=0.523 acc_soft=0.858 lr=0.0347310\n"
     ]
    },
    {
     "name": "stderr",
     "output_type": "stream",
     "text": [
      "[2021-12-02 10:03:12,790][line: 76] ==> train Epoch:[100/300]\t loss=0.03856\t acc_hard=0.936 acc_soft=0.986 lr=0.0338261\n"
     ]
    },
    {
     "name": "stderr",
     "output_type": "stream",
     "text": [
      "I1202 10:03:12.790415 139864777971520 1772499860.py:76] train Epoch:[100/300]\t loss=0.03856\t acc_hard=0.936 acc_soft=0.986 lr=0.0338261\n"
     ]
    },
    {
     "name": "stderr",
     "output_type": "stream",
     "text": [
      "[2021-12-02 10:03:17,138][line: 76] ==> val Epoch:[100/300]\t loss=0.41849\t acc_hard=0.609 acc_soft=0.884 lr=0.0338261\n"
     ]
    },
    {
     "name": "stderr",
     "output_type": "stream",
     "text": [
      "I1202 10:03:17.138061 139864777971520 1772499860.py:76] val Epoch:[100/300]\t loss=0.41849\t acc_hard=0.609 acc_soft=0.884 lr=0.0338261\n"
     ]
    },
    {
     "name": "stderr",
     "output_type": "stream",
     "text": [
      "[2021-12-02 10:03:48,464][line: 76] ==> train Epoch:[101/300]\t loss=0.04188\t acc_hard=0.934 acc_soft=0.985 lr=0.0329080\n"
     ]
    },
    {
     "name": "stderr",
     "output_type": "stream",
     "text": [
      "I1202 10:03:48.464314 139864777971520 1772499860.py:76] train Epoch:[101/300]\t loss=0.04188\t acc_hard=0.934 acc_soft=0.985 lr=0.0329080\n"
     ]
    },
    {
     "name": "stderr",
     "output_type": "stream",
     "text": [
      "[2021-12-02 10:03:52,768][line: 76] ==> val Epoch:[101/300]\t loss=0.42313\t acc_hard=0.549 acc_soft=0.877 lr=0.0329080\n"
     ]
    },
    {
     "name": "stderr",
     "output_type": "stream",
     "text": [
      "I1202 10:03:52.768846 139864777971520 1772499860.py:76] val Epoch:[101/300]\t loss=0.42313\t acc_hard=0.549 acc_soft=0.877 lr=0.0329080\n"
     ]
    },
    {
     "name": "stderr",
     "output_type": "stream",
     "text": [
      "[2021-12-02 10:04:24,748][line: 76] ==> train Epoch:[102/300]\t loss=0.03900\t acc_hard=0.933 acc_soft=0.985 lr=0.0319781\n"
     ]
    },
    {
     "name": "stderr",
     "output_type": "stream",
     "text": [
      "I1202 10:04:24.748887 139864777971520 1772499860.py:76] train Epoch:[102/300]\t loss=0.03900\t acc_hard=0.933 acc_soft=0.985 lr=0.0319781\n"
     ]
    },
    {
     "name": "stderr",
     "output_type": "stream",
     "text": [
      "[2021-12-02 10:04:29,079][line: 76] ==> val Epoch:[102/300]\t loss=0.40407\t acc_hard=0.594 acc_soft=0.891 lr=0.0319781\n"
     ]
    },
    {
     "name": "stderr",
     "output_type": "stream",
     "text": [
      "I1202 10:04:29.079229 139864777971520 1772499860.py:76] val Epoch:[102/300]\t loss=0.40407\t acc_hard=0.594 acc_soft=0.891 lr=0.0319781\n"
     ]
    },
    {
     "name": "stderr",
     "output_type": "stream",
     "text": [
      "[2021-12-02 10:05:01,422][line: 76] ==> train Epoch:[103/300]\t loss=0.03547\t acc_hard=0.941 acc_soft=0.987 lr=0.0310378\n"
     ]
    },
    {
     "name": "stderr",
     "output_type": "stream",
     "text": [
      "I1202 10:05:01.422867 139864777971520 1772499860.py:76] train Epoch:[103/300]\t loss=0.03547\t acc_hard=0.941 acc_soft=0.987 lr=0.0310378\n"
     ]
    },
    {
     "name": "stderr",
     "output_type": "stream",
     "text": [
      "[2021-12-02 10:05:05,703][line: 76] ==> val Epoch:[103/300]\t loss=0.50995\t acc_hard=0.541 acc_soft=0.864 lr=0.0310378\n"
     ]
    },
    {
     "name": "stderr",
     "output_type": "stream",
     "text": [
      "I1202 10:05:05.703918 139864777971520 1772499860.py:76] val Epoch:[103/300]\t loss=0.50995\t acc_hard=0.541 acc_soft=0.864 lr=0.0310378\n"
     ]
    },
    {
     "name": "stderr",
     "output_type": "stream",
     "text": [
      "[2021-12-02 10:05:37,626][line: 76] ==> train Epoch:[104/300]\t loss=0.03389\t acc_hard=0.942 acc_soft=0.987 lr=0.0300886\n"
     ]
    },
    {
     "name": "stderr",
     "output_type": "stream",
     "text": [
      "I1202 10:05:37.626761 139864777971520 1772499860.py:76] train Epoch:[104/300]\t loss=0.03389\t acc_hard=0.942 acc_soft=0.987 lr=0.0300886\n"
     ]
    },
    {
     "name": "stderr",
     "output_type": "stream",
     "text": [
      "[2021-12-02 10:05:41,961][line: 76] ==> val Epoch:[104/300]\t loss=0.44055\t acc_hard=0.581 acc_soft=0.886 lr=0.0300886\n"
     ]
    },
    {
     "name": "stderr",
     "output_type": "stream",
     "text": [
      "I1202 10:05:41.961948 139864777971520 1772499860.py:76] val Epoch:[104/300]\t loss=0.44055\t acc_hard=0.581 acc_soft=0.886 lr=0.0300886\n"
     ]
    },
    {
     "name": "stderr",
     "output_type": "stream",
     "text": [
      "[2021-12-02 10:06:13,443][line: 76] ==> train Epoch:[105/300]\t loss=0.03420\t acc_hard=0.943 acc_soft=0.988 lr=0.0291320\n"
     ]
    },
    {
     "name": "stderr",
     "output_type": "stream",
     "text": [
      "I1202 10:06:13.443691 139864777971520 1772499860.py:76] train Epoch:[105/300]\t loss=0.03420\t acc_hard=0.943 acc_soft=0.988 lr=0.0291320\n"
     ]
    },
    {
     "name": "stderr",
     "output_type": "stream",
     "text": [
      "[2021-12-02 10:06:17,786][line: 76] ==> val Epoch:[105/300]\t loss=0.43850\t acc_hard=0.549 acc_soft=0.871 lr=0.0291320\n"
     ]
    },
    {
     "name": "stderr",
     "output_type": "stream",
     "text": [
      "I1202 10:06:17.786167 139864777971520 1772499860.py:76] val Epoch:[105/300]\t loss=0.43850\t acc_hard=0.549 acc_soft=0.871 lr=0.0291320\n"
     ]
    },
    {
     "name": "stderr",
     "output_type": "stream",
     "text": [
      "[2021-12-02 10:06:49,237][line: 76] ==> train Epoch:[106/300]\t loss=0.03131\t acc_hard=0.954 acc_soft=0.990 lr=0.0281693\n"
     ]
    },
    {
     "name": "stderr",
     "output_type": "stream",
     "text": [
      "I1202 10:06:49.237359 139864777971520 1772499860.py:76] train Epoch:[106/300]\t loss=0.03131\t acc_hard=0.954 acc_soft=0.990 lr=0.0281693\n"
     ]
    },
    {
     "name": "stderr",
     "output_type": "stream",
     "text": [
      "[2021-12-02 10:06:53,672][line: 76] ==> val Epoch:[106/300]\t loss=0.47666\t acc_hard=0.584 acc_soft=0.884 lr=0.0281693\n"
     ]
    },
    {
     "name": "stderr",
     "output_type": "stream",
     "text": [
      "I1202 10:06:53.672343 139864777971520 1772499860.py:76] val Epoch:[106/300]\t loss=0.47666\t acc_hard=0.584 acc_soft=0.884 lr=0.0281693\n"
     ]
    },
    {
     "name": "stderr",
     "output_type": "stream",
     "text": [
      "[2021-12-02 10:07:25,807][line: 76] ==> train Epoch:[107/300]\t loss=0.02917\t acc_hard=0.947 acc_soft=0.989 lr=0.0272022\n"
     ]
    },
    {
     "name": "stderr",
     "output_type": "stream",
     "text": [
      "I1202 10:07:25.807706 139864777971520 1772499860.py:76] train Epoch:[107/300]\t loss=0.02917\t acc_hard=0.947 acc_soft=0.989 lr=0.0272022\n"
     ]
    },
    {
     "name": "stderr",
     "output_type": "stream",
     "text": [
      "[2021-12-02 10:07:30,148][line: 76] ==> val Epoch:[107/300]\t loss=0.48254\t acc_hard=0.550 acc_soft=0.873 lr=0.0272022\n"
     ]
    },
    {
     "name": "stderr",
     "output_type": "stream",
     "text": [
      "I1202 10:07:30.148475 139864777971520 1772499860.py:76] val Epoch:[107/300]\t loss=0.48254\t acc_hard=0.550 acc_soft=0.873 lr=0.0272022\n"
     ]
    },
    {
     "name": "stderr",
     "output_type": "stream",
     "text": [
      "[2021-12-02 10:08:01,605][line: 76] ==> train Epoch:[108/300]\t loss=0.02693\t acc_hard=0.954 acc_soft=0.990 lr=0.0262320\n"
     ]
    },
    {
     "name": "stderr",
     "output_type": "stream",
     "text": [
      "I1202 10:08:01.605070 139864777971520 1772499860.py:76] train Epoch:[108/300]\t loss=0.02693\t acc_hard=0.954 acc_soft=0.990 lr=0.0262320\n"
     ]
    },
    {
     "name": "stderr",
     "output_type": "stream",
     "text": [
      "[2021-12-02 10:08:05,903][line: 76] ==> val Epoch:[108/300]\t loss=0.41821\t acc_hard=0.606 acc_soft=0.890 lr=0.0262320\n"
     ]
    },
    {
     "name": "stderr",
     "output_type": "stream",
     "text": [
      "I1202 10:08:05.903542 139864777971520 1772499860.py:76] val Epoch:[108/300]\t loss=0.41821\t acc_hard=0.606 acc_soft=0.890 lr=0.0262320\n"
     ]
    },
    {
     "name": "stderr",
     "output_type": "stream",
     "text": [
      "[2021-12-02 10:08:38,304][line: 76] ==> train Epoch:[109/300]\t loss=0.02528\t acc_hard=0.959 acc_soft=0.991 lr=0.0252603\n"
     ]
    },
    {
     "name": "stderr",
     "output_type": "stream",
     "text": [
      "I1202 10:08:38.304848 139864777971520 1772499860.py:76] train Epoch:[109/300]\t loss=0.02528\t acc_hard=0.959 acc_soft=0.991 lr=0.0252603\n"
     ]
    },
    {
     "name": "stderr",
     "output_type": "stream",
     "text": [
      "[2021-12-02 10:08:42,635][line: 76] ==> val Epoch:[109/300]\t loss=0.46149\t acc_hard=0.583 acc_soft=0.886 lr=0.0252603\n"
     ]
    },
    {
     "name": "stderr",
     "output_type": "stream",
     "text": [
      "I1202 10:08:42.635802 139864777971520 1772499860.py:76] val Epoch:[109/300]\t loss=0.46149\t acc_hard=0.583 acc_soft=0.886 lr=0.0252603\n"
     ]
    },
    {
     "name": "stderr",
     "output_type": "stream",
     "text": [
      "[2021-12-02 10:09:13,769][line: 76] ==> train Epoch:[110/300]\t loss=0.02604\t acc_hard=0.956 acc_soft=0.991 lr=0.0242887\n"
     ]
    },
    {
     "name": "stderr",
     "output_type": "stream",
     "text": [
      "I1202 10:09:13.769477 139864777971520 1772499860.py:76] train Epoch:[110/300]\t loss=0.02604\t acc_hard=0.956 acc_soft=0.991 lr=0.0242887\n"
     ]
    },
    {
     "name": "stderr",
     "output_type": "stream",
     "text": [
      "[2021-12-02 10:09:18,073][line: 76] ==> val Epoch:[110/300]\t loss=0.38270\t acc_hard=0.614 acc_soft=0.898 lr=0.0242887\n"
     ]
    },
    {
     "name": "stderr",
     "output_type": "stream",
     "text": [
      "I1202 10:09:18.073647 139864777971520 1772499860.py:76] val Epoch:[110/300]\t loss=0.38270\t acc_hard=0.614 acc_soft=0.898 lr=0.0242887\n"
     ]
    },
    {
     "name": "stderr",
     "output_type": "stream",
     "text": [
      "[2021-12-02 10:09:49,843][line: 76] ==> train Epoch:[111/300]\t loss=0.02192\t acc_hard=0.964 acc_soft=0.993 lr=0.0233184\n"
     ]
    },
    {
     "name": "stderr",
     "output_type": "stream",
     "text": [
      "I1202 10:09:49.843472 139864777971520 1772499860.py:76] train Epoch:[111/300]\t loss=0.02192\t acc_hard=0.964 acc_soft=0.993 lr=0.0233184\n"
     ]
    },
    {
     "name": "stderr",
     "output_type": "stream",
     "text": [
      "[2021-12-02 10:09:54,272][line: 76] ==> val Epoch:[111/300]\t loss=0.40348\t acc_hard=0.593 acc_soft=0.891 lr=0.0233184\n"
     ]
    },
    {
     "name": "stderr",
     "output_type": "stream",
     "text": [
      "I1202 10:09:54.272059 139864777971520 1772499860.py:76] val Epoch:[111/300]\t loss=0.40348\t acc_hard=0.593 acc_soft=0.891 lr=0.0233184\n"
     ]
    },
    {
     "name": "stderr",
     "output_type": "stream",
     "text": [
      "[2021-12-02 10:10:26,637][line: 76] ==> train Epoch:[112/300]\t loss=0.02208\t acc_hard=0.963 acc_soft=0.992 lr=0.0223512\n"
     ]
    },
    {
     "name": "stderr",
     "output_type": "stream",
     "text": [
      "I1202 10:10:26.637320 139864777971520 1772499860.py:76] train Epoch:[112/300]\t loss=0.02208\t acc_hard=0.963 acc_soft=0.992 lr=0.0223512\n"
     ]
    },
    {
     "name": "stderr",
     "output_type": "stream",
     "text": [
      "[2021-12-02 10:10:31,009][line: 76] ==> val Epoch:[112/300]\t loss=0.44245\t acc_hard=0.593 acc_soft=0.890 lr=0.0223512\n"
     ]
    },
    {
     "name": "stderr",
     "output_type": "stream",
     "text": [
      "I1202 10:10:31.009030 139864777971520 1772499860.py:76] val Epoch:[112/300]\t loss=0.44245\t acc_hard=0.593 acc_soft=0.890 lr=0.0223512\n"
     ]
    },
    {
     "name": "stderr",
     "output_type": "stream",
     "text": [
      "[2021-12-02 10:11:02,344][line: 76] ==> train Epoch:[113/300]\t loss=0.02511\t acc_hard=0.959 acc_soft=0.991 lr=0.0213885\n"
     ]
    },
    {
     "name": "stderr",
     "output_type": "stream",
     "text": [
      "I1202 10:11:02.344507 139864777971520 1772499860.py:76] train Epoch:[113/300]\t loss=0.02511\t acc_hard=0.959 acc_soft=0.991 lr=0.0213885\n"
     ]
    },
    {
     "name": "stderr",
     "output_type": "stream",
     "text": [
      "[2021-12-02 10:11:06,699][line: 76] ==> val Epoch:[113/300]\t loss=0.43956\t acc_hard=0.591 acc_soft=0.885 lr=0.0213885\n"
     ]
    },
    {
     "name": "stderr",
     "output_type": "stream",
     "text": [
      "I1202 10:11:06.699341 139864777971520 1772499860.py:76] val Epoch:[113/300]\t loss=0.43956\t acc_hard=0.591 acc_soft=0.885 lr=0.0213885\n"
     ]
    },
    {
     "name": "stderr",
     "output_type": "stream",
     "text": [
      "[2021-12-02 10:11:39,924][line: 76] ==> train Epoch:[114/300]\t loss=0.02213\t acc_hard=0.962 acc_soft=0.992 lr=0.0204317\n"
     ]
    },
    {
     "name": "stderr",
     "output_type": "stream",
     "text": [
      "I1202 10:11:39.924129 139864777971520 1772499860.py:76] train Epoch:[114/300]\t loss=0.02213\t acc_hard=0.962 acc_soft=0.992 lr=0.0204317\n"
     ]
    },
    {
     "name": "stderr",
     "output_type": "stream",
     "text": [
      "[2021-12-02 10:11:44,254][line: 76] ==> val Epoch:[114/300]\t loss=0.43458\t acc_hard=0.581 acc_soft=0.887 lr=0.0204317\n"
     ]
    },
    {
     "name": "stderr",
     "output_type": "stream",
     "text": [
      "I1202 10:11:44.254692 139864777971520 1772499860.py:76] val Epoch:[114/300]\t loss=0.43458\t acc_hard=0.581 acc_soft=0.887 lr=0.0204317\n"
     ]
    },
    {
     "name": "stderr",
     "output_type": "stream",
     "text": [
      "[2021-12-02 10:12:15,354][line: 76] ==> train Epoch:[115/300]\t loss=0.02145\t acc_hard=0.966 acc_soft=0.993 lr=0.0194823\n"
     ]
    },
    {
     "name": "stderr",
     "output_type": "stream",
     "text": [
      "I1202 10:12:15.354932 139864777971520 1772499860.py:76] train Epoch:[115/300]\t loss=0.02145\t acc_hard=0.966 acc_soft=0.993 lr=0.0194823\n"
     ]
    },
    {
     "name": "stderr",
     "output_type": "stream",
     "text": [
      "[2021-12-02 10:12:19,666][line: 76] ==> val Epoch:[115/300]\t loss=0.45388\t acc_hard=0.584 acc_soft=0.884 lr=0.0194823\n"
     ]
    },
    {
     "name": "stderr",
     "output_type": "stream",
     "text": [
      "I1202 10:12:19.666178 139864777971520 1772499860.py:76] val Epoch:[115/300]\t loss=0.45388\t acc_hard=0.584 acc_soft=0.884 lr=0.0194823\n"
     ]
    },
    {
     "name": "stderr",
     "output_type": "stream",
     "text": [
      "[2021-12-02 10:12:51,695][line: 76] ==> train Epoch:[116/300]\t loss=0.02139\t acc_hard=0.965 acc_soft=0.992 lr=0.0185418\n"
     ]
    },
    {
     "name": "stderr",
     "output_type": "stream",
     "text": [
      "I1202 10:12:51.695227 139864777971520 1772499860.py:76] train Epoch:[116/300]\t loss=0.02139\t acc_hard=0.965 acc_soft=0.992 lr=0.0185418\n"
     ]
    },
    {
     "name": "stderr",
     "output_type": "stream",
     "text": [
      "[2021-12-02 10:12:55,996][line: 76] ==> val Epoch:[116/300]\t loss=0.42200\t acc_hard=0.619 acc_soft=0.900 lr=0.0185418\n"
     ]
    },
    {
     "name": "stderr",
     "output_type": "stream",
     "text": [
      "I1202 10:12:55.996529 139864777971520 1772499860.py:76] val Epoch:[116/300]\t loss=0.42200\t acc_hard=0.619 acc_soft=0.900 lr=0.0185418\n"
     ]
    },
    {
     "name": "stderr",
     "output_type": "stream",
     "text": [
      "[2021-12-02 10:13:27,333][line: 76] ==> train Epoch:[117/300]\t loss=0.01935\t acc_hard=0.968 acc_soft=0.993 lr=0.0176117\n"
     ]
    },
    {
     "name": "stderr",
     "output_type": "stream",
     "text": [
      "I1202 10:13:27.333925 139864777971520 1772499860.py:76] train Epoch:[117/300]\t loss=0.01935\t acc_hard=0.968 acc_soft=0.993 lr=0.0176117\n"
     ]
    },
    {
     "name": "stderr",
     "output_type": "stream",
     "text": [
      "[2021-12-02 10:13:31,579][line: 76] ==> val Epoch:[117/300]\t loss=0.42611\t acc_hard=0.612 acc_soft=0.895 lr=0.0176117\n"
     ]
    },
    {
     "name": "stderr",
     "output_type": "stream",
     "text": [
      "I1202 10:13:31.579371 139864777971520 1772499860.py:76] val Epoch:[117/300]\t loss=0.42611\t acc_hard=0.612 acc_soft=0.895 lr=0.0176117\n"
     ]
    },
    {
     "name": "stderr",
     "output_type": "stream",
     "text": [
      "[2021-12-02 10:14:02,813][line: 76] ==> train Epoch:[118/300]\t loss=0.01853\t acc_hard=0.972 acc_soft=0.994 lr=0.0166933\n"
     ]
    },
    {
     "name": "stderr",
     "output_type": "stream",
     "text": [
      "I1202 10:14:02.813289 139864777971520 1772499860.py:76] train Epoch:[118/300]\t loss=0.01853\t acc_hard=0.972 acc_soft=0.994 lr=0.0166933\n"
     ]
    },
    {
     "name": "stderr",
     "output_type": "stream",
     "text": [
      "[2021-12-02 10:14:07,149][line: 76] ==> val Epoch:[118/300]\t loss=0.45823\t acc_hard=0.606 acc_soft=0.895 lr=0.0166933\n"
     ]
    },
    {
     "name": "stderr",
     "output_type": "stream",
     "text": [
      "I1202 10:14:07.149163 139864777971520 1772499860.py:76] val Epoch:[118/300]\t loss=0.45823\t acc_hard=0.606 acc_soft=0.895 lr=0.0166933\n"
     ]
    },
    {
     "name": "stderr",
     "output_type": "stream",
     "text": [
      "[2021-12-02 10:14:39,418][line: 76] ==> train Epoch:[119/300]\t loss=0.01658\t acc_hard=0.974 acc_soft=0.995 lr=0.0157881\n"
     ]
    },
    {
     "name": "stderr",
     "output_type": "stream",
     "text": [
      "I1202 10:14:39.418596 139864777971520 1772499860.py:76] train Epoch:[119/300]\t loss=0.01658\t acc_hard=0.974 acc_soft=0.995 lr=0.0157881\n"
     ]
    },
    {
     "name": "stderr",
     "output_type": "stream",
     "text": [
      "[2021-12-02 10:14:43,700][line: 76] ==> val Epoch:[119/300]\t loss=0.41940\t acc_hard=0.630 acc_soft=0.901 lr=0.0157881\n"
     ]
    },
    {
     "name": "stderr",
     "output_type": "stream",
     "text": [
      "I1202 10:14:43.700468 139864777971520 1772499860.py:76] val Epoch:[119/300]\t loss=0.41940\t acc_hard=0.630 acc_soft=0.901 lr=0.0157881\n"
     ]
    },
    {
     "name": "stderr",
     "output_type": "stream",
     "text": [
      "[2021-12-02 10:15:15,257][line: 76] ==> train Epoch:[120/300]\t loss=0.01774\t acc_hard=0.970 acc_soft=0.994 lr=0.0148976\n"
     ]
    },
    {
     "name": "stderr",
     "output_type": "stream",
     "text": [
      "I1202 10:15:15.257045 139864777971520 1772499860.py:76] train Epoch:[120/300]\t loss=0.01774\t acc_hard=0.970 acc_soft=0.994 lr=0.0148976\n"
     ]
    },
    {
     "name": "stderr",
     "output_type": "stream",
     "text": [
      "[2021-12-02 10:15:19,612][line: 76] ==> val Epoch:[120/300]\t loss=0.42436\t acc_hard=0.622 acc_soft=0.903 lr=0.0148976\n"
     ]
    },
    {
     "name": "stderr",
     "output_type": "stream",
     "text": [
      "I1202 10:15:19.612122 139864777971520 1772499860.py:76] val Epoch:[120/300]\t loss=0.42436\t acc_hard=0.622 acc_soft=0.903 lr=0.0148976\n"
     ]
    },
    {
     "name": "stderr",
     "output_type": "stream",
     "text": [
      "[2021-12-02 10:15:51,463][line: 76] ==> train Epoch:[121/300]\t loss=0.01779\t acc_hard=0.972 acc_soft=0.994 lr=0.0140229\n"
     ]
    },
    {
     "name": "stderr",
     "output_type": "stream",
     "text": [
      "I1202 10:15:51.463122 139864777971520 1772499860.py:76] train Epoch:[121/300]\t loss=0.01779\t acc_hard=0.972 acc_soft=0.994 lr=0.0140229\n"
     ]
    },
    {
     "name": "stderr",
     "output_type": "stream",
     "text": [
      "[2021-12-02 10:15:55,848][line: 76] ==> val Epoch:[121/300]\t loss=0.43062\t acc_hard=0.631 acc_soft=0.901 lr=0.0140229\n"
     ]
    },
    {
     "name": "stderr",
     "output_type": "stream",
     "text": [
      "I1202 10:15:55.848174 139864777971520 1772499860.py:76] val Epoch:[121/300]\t loss=0.43062\t acc_hard=0.631 acc_soft=0.901 lr=0.0140229\n"
     ]
    },
    {
     "name": "stderr",
     "output_type": "stream",
     "text": [
      "[2021-12-02 10:16:27,184][line: 76] ==> train Epoch:[122/300]\t loss=0.01414\t acc_hard=0.976 acc_soft=0.995 lr=0.0131656\n"
     ]
    },
    {
     "name": "stderr",
     "output_type": "stream",
     "text": [
      "I1202 10:16:27.184947 139864777971520 1772499860.py:76] train Epoch:[122/300]\t loss=0.01414\t acc_hard=0.976 acc_soft=0.995 lr=0.0131656\n"
     ]
    },
    {
     "name": "stderr",
     "output_type": "stream",
     "text": [
      "[2021-12-02 10:16:31,492][line: 76] ==> val Epoch:[122/300]\t loss=0.43741\t acc_hard=0.635 acc_soft=0.905 lr=0.0131656\n"
     ]
    },
    {
     "name": "stderr",
     "output_type": "stream",
     "text": [
      "I1202 10:16:31.492246 139864777971520 1772499860.py:76] val Epoch:[122/300]\t loss=0.43741\t acc_hard=0.635 acc_soft=0.905 lr=0.0131656\n"
     ]
    },
    {
     "name": "stderr",
     "output_type": "stream",
     "text": [
      "[2021-12-02 10:17:03,036][line: 76] ==> train Epoch:[123/300]\t loss=0.01476\t acc_hard=0.975 acc_soft=0.995 lr=0.0123270\n"
     ]
    },
    {
     "name": "stderr",
     "output_type": "stream",
     "text": [
      "I1202 10:17:03.036452 139864777971520 1772499860.py:76] train Epoch:[123/300]\t loss=0.01476\t acc_hard=0.975 acc_soft=0.995 lr=0.0123270\n"
     ]
    },
    {
     "name": "stderr",
     "output_type": "stream",
     "text": [
      "[2021-12-02 10:17:07,390][line: 76] ==> val Epoch:[123/300]\t loss=0.42387\t acc_hard=0.638 acc_soft=0.902 lr=0.0123270\n"
     ]
    },
    {
     "name": "stderr",
     "output_type": "stream",
     "text": [
      "I1202 10:17:07.390415 139864777971520 1772499860.py:76] val Epoch:[123/300]\t loss=0.42387\t acc_hard=0.638 acc_soft=0.902 lr=0.0123270\n"
     ]
    },
    {
     "name": "stderr",
     "output_type": "stream",
     "text": [
      "[2021-12-02 10:17:38,283][line: 76] ==> train Epoch:[124/300]\t loss=0.01770\t acc_hard=0.972 acc_soft=0.994 lr=0.0115082\n"
     ]
    },
    {
     "name": "stderr",
     "output_type": "stream",
     "text": [
      "I1202 10:17:38.283197 139864777971520 1772499860.py:76] train Epoch:[124/300]\t loss=0.01770\t acc_hard=0.972 acc_soft=0.994 lr=0.0115082\n"
     ]
    },
    {
     "name": "stderr",
     "output_type": "stream",
     "text": [
      "[2021-12-02 10:17:42,596][line: 76] ==> val Epoch:[124/300]\t loss=0.49098\t acc_hard=0.617 acc_soft=0.899 lr=0.0115082\n"
     ]
    },
    {
     "name": "stderr",
     "output_type": "stream",
     "text": [
      "I1202 10:17:42.596186 139864777971520 1772499860.py:76] val Epoch:[124/300]\t loss=0.49098\t acc_hard=0.617 acc_soft=0.899 lr=0.0115082\n"
     ]
    },
    {
     "name": "stderr",
     "output_type": "stream",
     "text": [
      "[2021-12-02 10:18:14,872][line: 76] ==> train Epoch:[125/300]\t loss=0.01409\t acc_hard=0.978 acc_soft=0.995 lr=0.0107107\n"
     ]
    },
    {
     "name": "stderr",
     "output_type": "stream",
     "text": [
      "I1202 10:18:14.872355 139864777971520 1772499860.py:76] train Epoch:[125/300]\t loss=0.01409\t acc_hard=0.978 acc_soft=0.995 lr=0.0107107\n"
     ]
    },
    {
     "name": "stderr",
     "output_type": "stream",
     "text": [
      "[2021-12-02 10:18:19,251][line: 76] ==> val Epoch:[125/300]\t loss=0.48123\t acc_hard=0.623 acc_soft=0.898 lr=0.0107107\n"
     ]
    },
    {
     "name": "stderr",
     "output_type": "stream",
     "text": [
      "I1202 10:18:19.251399 139864777971520 1772499860.py:76] val Epoch:[125/300]\t loss=0.48123\t acc_hard=0.623 acc_soft=0.898 lr=0.0107107\n"
     ]
    },
    {
     "name": "stderr",
     "output_type": "stream",
     "text": [
      "[2021-12-02 10:18:50,748][line: 76] ==> train Epoch:[126/300]\t loss=0.01314\t acc_hard=0.979 acc_soft=0.996 lr=0.0099355\n"
     ]
    },
    {
     "name": "stderr",
     "output_type": "stream",
     "text": [
      "I1202 10:18:50.748255 139864777971520 1772499860.py:76] train Epoch:[126/300]\t loss=0.01314\t acc_hard=0.979 acc_soft=0.996 lr=0.0099355\n"
     ]
    },
    {
     "name": "stderr",
     "output_type": "stream",
     "text": [
      "[2021-12-02 10:18:55,021][line: 76] ==> val Epoch:[126/300]\t loss=0.49292\t acc_hard=0.633 acc_soft=0.898 lr=0.0099355\n"
     ]
    },
    {
     "name": "stderr",
     "output_type": "stream",
     "text": [
      "I1202 10:18:55.021237 139864777971520 1772499860.py:76] val Epoch:[126/300]\t loss=0.49292\t acc_hard=0.633 acc_soft=0.898 lr=0.0099355\n"
     ]
    },
    {
     "name": "stderr",
     "output_type": "stream",
     "text": [
      "[2021-12-02 10:19:27,294][line: 76] ==> train Epoch:[127/300]\t loss=0.01253\t acc_hard=0.981 acc_soft=0.996 lr=0.0091840\n"
     ]
    },
    {
     "name": "stderr",
     "output_type": "stream",
     "text": [
      "I1202 10:19:27.294527 139864777971520 1772499860.py:76] train Epoch:[127/300]\t loss=0.01253\t acc_hard=0.981 acc_soft=0.996 lr=0.0091840\n"
     ]
    },
    {
     "name": "stderr",
     "output_type": "stream",
     "text": [
      "[2021-12-02 10:19:31,569][line: 76] ==> val Epoch:[127/300]\t loss=0.44148\t acc_hard=0.625 acc_soft=0.897 lr=0.0091840\n"
     ]
    },
    {
     "name": "stderr",
     "output_type": "stream",
     "text": [
      "I1202 10:19:31.569978 139864777971520 1772499860.py:76] val Epoch:[127/300]\t loss=0.44148\t acc_hard=0.625 acc_soft=0.897 lr=0.0091840\n"
     ]
    },
    {
     "name": "stderr",
     "output_type": "stream",
     "text": [
      "[2021-12-02 10:20:03,505][line: 76] ==> train Epoch:[128/300]\t loss=0.01299\t acc_hard=0.980 acc_soft=0.996 lr=0.0084573\n"
     ]
    },
    {
     "name": "stderr",
     "output_type": "stream",
     "text": [
      "I1202 10:20:03.505155 139864777971520 1772499860.py:76] train Epoch:[128/300]\t loss=0.01299\t acc_hard=0.980 acc_soft=0.996 lr=0.0084573\n"
     ]
    },
    {
     "name": "stderr",
     "output_type": "stream",
     "text": [
      "[2021-12-02 10:20:07,890][line: 76] ==> val Epoch:[128/300]\t loss=0.42916\t acc_hard=0.640 acc_soft=0.904 lr=0.0084573\n"
     ]
    },
    {
     "name": "stderr",
     "output_type": "stream",
     "text": [
      "I1202 10:20:07.890461 139864777971520 1772499860.py:76] val Epoch:[128/300]\t loss=0.42916\t acc_hard=0.640 acc_soft=0.904 lr=0.0084573\n"
     ]
    },
    {
     "name": "stderr",
     "output_type": "stream",
     "text": [
      "[2021-12-02 10:20:39,602][line: 76] ==> train Epoch:[129/300]\t loss=0.01176\t acc_hard=0.980 acc_soft=0.996 lr=0.0077564\n"
     ]
    },
    {
     "name": "stderr",
     "output_type": "stream",
     "text": [
      "I1202 10:20:39.602018 139864777971520 1772499860.py:76] train Epoch:[129/300]\t loss=0.01176\t acc_hard=0.980 acc_soft=0.996 lr=0.0077564\n"
     ]
    },
    {
     "name": "stderr",
     "output_type": "stream",
     "text": [
      "[2021-12-02 10:20:43,919][line: 76] ==> val Epoch:[129/300]\t loss=0.44408\t acc_hard=0.648 acc_soft=0.906 lr=0.0077564\n"
     ]
    },
    {
     "name": "stderr",
     "output_type": "stream",
     "text": [
      "I1202 10:20:43.919579 139864777971520 1772499860.py:76] val Epoch:[129/300]\t loss=0.44408\t acc_hard=0.648 acc_soft=0.906 lr=0.0077564\n"
     ]
    },
    {
     "name": "stderr",
     "output_type": "stream",
     "text": [
      "[2021-12-02 10:21:15,039][line: 76] ==> train Epoch:[130/300]\t loss=0.01249\t acc_hard=0.980 acc_soft=0.996 lr=0.0070825\n"
     ]
    },
    {
     "name": "stderr",
     "output_type": "stream",
     "text": [
      "I1202 10:21:15.039868 139864777971520 1772499860.py:76] train Epoch:[130/300]\t loss=0.01249\t acc_hard=0.980 acc_soft=0.996 lr=0.0070825\n"
     ]
    },
    {
     "name": "stderr",
     "output_type": "stream",
     "text": [
      "[2021-12-02 10:21:19,356][line: 76] ==> val Epoch:[130/300]\t loss=0.45907\t acc_hard=0.630 acc_soft=0.901 lr=0.0070825\n"
     ]
    },
    {
     "name": "stderr",
     "output_type": "stream",
     "text": [
      "I1202 10:21:19.356800 139864777971520 1772499860.py:76] val Epoch:[130/300]\t loss=0.45907\t acc_hard=0.630 acc_soft=0.901 lr=0.0070825\n"
     ]
    },
    {
     "name": "stderr",
     "output_type": "stream",
     "text": [
      "[2021-12-02 10:21:50,844][line: 76] ==> train Epoch:[131/300]\t loss=0.01109\t acc_hard=0.983 acc_soft=0.996 lr=0.0064367\n"
     ]
    },
    {
     "name": "stderr",
     "output_type": "stream",
     "text": [
      "I1202 10:21:50.844247 139864777971520 1772499860.py:76] train Epoch:[131/300]\t loss=0.01109\t acc_hard=0.983 acc_soft=0.996 lr=0.0064367\n"
     ]
    },
    {
     "name": "stderr",
     "output_type": "stream",
     "text": [
      "[2021-12-02 10:21:55,160][line: 76] ==> val Epoch:[131/300]\t loss=0.44601\t acc_hard=0.630 acc_soft=0.900 lr=0.0064367\n"
     ]
    },
    {
     "name": "stderr",
     "output_type": "stream",
     "text": [
      "I1202 10:21:55.160206 139864777971520 1772499860.py:76] val Epoch:[131/300]\t loss=0.44601\t acc_hard=0.630 acc_soft=0.900 lr=0.0064367\n"
     ]
    },
    {
     "name": "stderr",
     "output_type": "stream",
     "text": [
      "[2021-12-02 10:22:26,175][line: 76] ==> train Epoch:[132/300]\t loss=0.01192\t acc_hard=0.982 acc_soft=0.996 lr=0.0058198\n"
     ]
    },
    {
     "name": "stderr",
     "output_type": "stream",
     "text": [
      "I1202 10:22:26.175189 139864777971520 1772499860.py:76] train Epoch:[132/300]\t loss=0.01192\t acc_hard=0.982 acc_soft=0.996 lr=0.0058198\n"
     ]
    },
    {
     "name": "stderr",
     "output_type": "stream",
     "text": [
      "[2021-12-02 10:22:30,623][line: 76] ==> val Epoch:[132/300]\t loss=0.44194\t acc_hard=0.627 acc_soft=0.900 lr=0.0058198\n"
     ]
    },
    {
     "name": "stderr",
     "output_type": "stream",
     "text": [
      "I1202 10:22:30.623239 139864777971520 1772499860.py:76] val Epoch:[132/300]\t loss=0.44194\t acc_hard=0.627 acc_soft=0.900 lr=0.0058198\n"
     ]
    },
    {
     "name": "stderr",
     "output_type": "stream",
     "text": [
      "[2021-12-02 10:23:01,879][line: 76] ==> train Epoch:[133/300]\t loss=0.01186\t acc_hard=0.982 acc_soft=0.996 lr=0.0052329\n"
     ]
    },
    {
     "name": "stderr",
     "output_type": "stream",
     "text": [
      "I1202 10:23:01.879625 139864777971520 1772499860.py:76] train Epoch:[133/300]\t loss=0.01186\t acc_hard=0.982 acc_soft=0.996 lr=0.0052329\n"
     ]
    },
    {
     "name": "stderr",
     "output_type": "stream",
     "text": [
      "[2021-12-02 10:23:06,236][line: 76] ==> val Epoch:[133/300]\t loss=0.43385\t acc_hard=0.630 acc_soft=0.903 lr=0.0052329\n"
     ]
    },
    {
     "name": "stderr",
     "output_type": "stream",
     "text": [
      "I1202 10:23:06.236294 139864777971520 1772499860.py:76] val Epoch:[133/300]\t loss=0.43385\t acc_hard=0.630 acc_soft=0.903 lr=0.0052329\n"
     ]
    },
    {
     "name": "stderr",
     "output_type": "stream",
     "text": [
      "[2021-12-02 10:23:38,654][line: 76] ==> train Epoch:[134/300]\t loss=0.00952\t acc_hard=0.985 acc_soft=0.997 lr=0.0046769\n"
     ]
    },
    {
     "name": "stderr",
     "output_type": "stream",
     "text": [
      "I1202 10:23:38.654464 139864777971520 1772499860.py:76] train Epoch:[134/300]\t loss=0.00952\t acc_hard=0.985 acc_soft=0.997 lr=0.0046769\n"
     ]
    },
    {
     "name": "stderr",
     "output_type": "stream",
     "text": [
      "[2021-12-02 10:23:43,146][line: 76] ==> val Epoch:[134/300]\t loss=0.42832\t acc_hard=0.628 acc_soft=0.904 lr=0.0046769\n"
     ]
    },
    {
     "name": "stderr",
     "output_type": "stream",
     "text": [
      "I1202 10:23:43.146957 139864777971520 1772499860.py:76] val Epoch:[134/300]\t loss=0.42832\t acc_hard=0.628 acc_soft=0.904 lr=0.0046769\n"
     ]
    },
    {
     "name": "stderr",
     "output_type": "stream",
     "text": [
      "[2021-12-02 10:24:15,221][line: 76] ==> train Epoch:[135/300]\t loss=0.01105\t acc_hard=0.983 acc_soft=0.996 lr=0.0041526\n"
     ]
    },
    {
     "name": "stderr",
     "output_type": "stream",
     "text": [
      "I1202 10:24:15.221982 139864777971520 1772499860.py:76] train Epoch:[135/300]\t loss=0.01105\t acc_hard=0.983 acc_soft=0.996 lr=0.0041526\n"
     ]
    },
    {
     "name": "stderr",
     "output_type": "stream",
     "text": [
      "[2021-12-02 10:24:19,620][line: 76] ==> val Epoch:[135/300]\t loss=0.43209\t acc_hard=0.633 acc_soft=0.905 lr=0.0041526\n"
     ]
    },
    {
     "name": "stderr",
     "output_type": "stream",
     "text": [
      "I1202 10:24:19.620006 139864777971520 1772499860.py:76] val Epoch:[135/300]\t loss=0.43209\t acc_hard=0.633 acc_soft=0.905 lr=0.0041526\n"
     ]
    },
    {
     "name": "stderr",
     "output_type": "stream",
     "text": [
      "[2021-12-02 10:24:51,514][line: 76] ==> train Epoch:[136/300]\t loss=0.01000\t acc_hard=0.984 acc_soft=0.997 lr=0.0036608\n"
     ]
    },
    {
     "name": "stderr",
     "output_type": "stream",
     "text": [
      "I1202 10:24:51.514023 139864777971520 1772499860.py:76] train Epoch:[136/300]\t loss=0.01000\t acc_hard=0.984 acc_soft=0.997 lr=0.0036608\n"
     ]
    },
    {
     "name": "stderr",
     "output_type": "stream",
     "text": [
      "[2021-12-02 10:24:55,792][line: 76] ==> val Epoch:[136/300]\t loss=0.42441\t acc_hard=0.635 acc_soft=0.904 lr=0.0036608\n"
     ]
    },
    {
     "name": "stderr",
     "output_type": "stream",
     "text": [
      "I1202 10:24:55.792795 139864777971520 1772499860.py:76] val Epoch:[136/300]\t loss=0.42441\t acc_hard=0.635 acc_soft=0.904 lr=0.0036608\n"
     ]
    },
    {
     "name": "stderr",
     "output_type": "stream",
     "text": [
      "[2021-12-02 10:25:26,424][line: 76] ==> train Epoch:[137/300]\t loss=0.01061\t acc_hard=0.983 acc_soft=0.996 lr=0.0032023\n"
     ]
    },
    {
     "name": "stderr",
     "output_type": "stream",
     "text": [
      "I1202 10:25:26.424717 139864777971520 1772499860.py:76] train Epoch:[137/300]\t loss=0.01061\t acc_hard=0.983 acc_soft=0.996 lr=0.0032023\n"
     ]
    },
    {
     "name": "stderr",
     "output_type": "stream",
     "text": [
      "[2021-12-02 10:25:30,682][line: 76] ==> val Epoch:[137/300]\t loss=0.44705\t acc_hard=0.636 acc_soft=0.906 lr=0.0032023\n"
     ]
    },
    {
     "name": "stderr",
     "output_type": "stream",
     "text": [
      "I1202 10:25:30.682482 139864777971520 1772499860.py:76] val Epoch:[137/300]\t loss=0.44705\t acc_hard=0.636 acc_soft=0.906 lr=0.0032023\n"
     ]
    },
    {
     "name": "stderr",
     "output_type": "stream",
     "text": [
      "[2021-12-02 10:26:03,679][line: 76] ==> train Epoch:[138/300]\t loss=0.00938\t acc_hard=0.984 acc_soft=0.997 lr=0.0027778\n"
     ]
    },
    {
     "name": "stderr",
     "output_type": "stream",
     "text": [
      "I1202 10:26:03.679170 139864777971520 1772499860.py:76] train Epoch:[138/300]\t loss=0.00938\t acc_hard=0.984 acc_soft=0.997 lr=0.0027778\n"
     ]
    },
    {
     "name": "stderr",
     "output_type": "stream",
     "text": [
      "[2021-12-02 10:26:08,012][line: 76] ==> val Epoch:[138/300]\t loss=0.45127\t acc_hard=0.633 acc_soft=0.904 lr=0.0027778\n"
     ]
    },
    {
     "name": "stderr",
     "output_type": "stream",
     "text": [
      "I1202 10:26:08.012298 139864777971520 1772499860.py:76] val Epoch:[138/300]\t loss=0.45127\t acc_hard=0.633 acc_soft=0.904 lr=0.0027778\n"
     ]
    },
    {
     "name": "stderr",
     "output_type": "stream",
     "text": [
      "[2021-12-02 10:26:39,533][line: 76] ==> train Epoch:[139/300]\t loss=0.01000\t acc_hard=0.983 acc_soft=0.997 lr=0.0023879\n"
     ]
    },
    {
     "name": "stderr",
     "output_type": "stream",
     "text": [
      "I1202 10:26:39.533172 139864777971520 1772499860.py:76] train Epoch:[139/300]\t loss=0.01000\t acc_hard=0.983 acc_soft=0.997 lr=0.0023879\n"
     ]
    },
    {
     "name": "stderr",
     "output_type": "stream",
     "text": [
      "[2021-12-02 10:26:43,906][line: 76] ==> val Epoch:[139/300]\t loss=0.45519\t acc_hard=0.630 acc_soft=0.903 lr=0.0023879\n"
     ]
    },
    {
     "name": "stderr",
     "output_type": "stream",
     "text": [
      "I1202 10:26:43.906853 139864777971520 1772499860.py:76] val Epoch:[139/300]\t loss=0.45519\t acc_hard=0.630 acc_soft=0.903 lr=0.0023879\n"
     ]
    },
    {
     "name": "stderr",
     "output_type": "stream",
     "text": [
      "[2021-12-02 10:27:15,346][line: 76] ==> train Epoch:[140/300]\t loss=0.00881\t acc_hard=0.985 acc_soft=0.997 lr=0.0020333\n"
     ]
    },
    {
     "name": "stderr",
     "output_type": "stream",
     "text": [
      "I1202 10:27:15.346615 139864777971520 1772499860.py:76] train Epoch:[140/300]\t loss=0.00881\t acc_hard=0.985 acc_soft=0.997 lr=0.0020333\n"
     ]
    },
    {
     "name": "stderr",
     "output_type": "stream",
     "text": [
      "[2021-12-02 10:27:19,724][line: 76] ==> val Epoch:[140/300]\t loss=0.43747\t acc_hard=0.630 acc_soft=0.902 lr=0.0020333\n"
     ]
    },
    {
     "name": "stderr",
     "output_type": "stream",
     "text": [
      "I1202 10:27:19.724036 139864777971520 1772499860.py:76] val Epoch:[140/300]\t loss=0.43747\t acc_hard=0.630 acc_soft=0.902 lr=0.0020333\n"
     ]
    },
    {
     "name": "stderr",
     "output_type": "stream",
     "text": [
      "[2021-12-02 10:27:51,479][line: 76] ==> train Epoch:[141/300]\t loss=0.00981\t acc_hard=0.983 acc_soft=0.996 lr=0.0017145\n"
     ]
    },
    {
     "name": "stderr",
     "output_type": "stream",
     "text": [
      "I1202 10:27:51.479400 139864777971520 1772499860.py:76] train Epoch:[141/300]\t loss=0.00981\t acc_hard=0.983 acc_soft=0.996 lr=0.0017145\n"
     ]
    },
    {
     "name": "stderr",
     "output_type": "stream",
     "text": [
      "[2021-12-02 10:27:55,817][line: 76] ==> val Epoch:[141/300]\t loss=0.43490\t acc_hard=0.628 acc_soft=0.903 lr=0.0017145\n"
     ]
    },
    {
     "name": "stderr",
     "output_type": "stream",
     "text": [
      "I1202 10:27:55.817179 139864777971520 1772499860.py:76] val Epoch:[141/300]\t loss=0.43490\t acc_hard=0.628 acc_soft=0.903 lr=0.0017145\n"
     ]
    },
    {
     "name": "stderr",
     "output_type": "stream",
     "text": [
      "[2021-12-02 10:28:26,207][line: 76] ==> train Epoch:[142/300]\t loss=0.01038\t acc_hard=0.984 acc_soft=0.996 lr=0.0014320\n"
     ]
    },
    {
     "name": "stderr",
     "output_type": "stream",
     "text": [
      "I1202 10:28:26.207786 139864777971520 1772499860.py:76] train Epoch:[142/300]\t loss=0.01038\t acc_hard=0.984 acc_soft=0.996 lr=0.0014320\n"
     ]
    },
    {
     "name": "stderr",
     "output_type": "stream",
     "text": [
      "[2021-12-02 10:28:30,546][line: 76] ==> val Epoch:[142/300]\t loss=0.43298\t acc_hard=0.635 acc_soft=0.904 lr=0.0014320\n"
     ]
    },
    {
     "name": "stderr",
     "output_type": "stream",
     "text": [
      "I1202 10:28:30.546104 139864777971520 1772499860.py:76] val Epoch:[142/300]\t loss=0.43298\t acc_hard=0.635 acc_soft=0.904 lr=0.0014320\n"
     ]
    },
    {
     "name": "stderr",
     "output_type": "stream",
     "text": [
      "[2021-12-02 10:29:01,634][line: 76] ==> train Epoch:[143/300]\t loss=0.01025\t acc_hard=0.984 acc_soft=0.997 lr=0.0011863\n"
     ]
    },
    {
     "name": "stderr",
     "output_type": "stream",
     "text": [
      "I1202 10:29:01.634595 139864777971520 1772499860.py:76] train Epoch:[143/300]\t loss=0.01025\t acc_hard=0.984 acc_soft=0.997 lr=0.0011863\n"
     ]
    },
    {
     "name": "stderr",
     "output_type": "stream",
     "text": [
      "[2021-12-02 10:29:05,965][line: 76] ==> val Epoch:[143/300]\t loss=0.43218\t acc_hard=0.630 acc_soft=0.903 lr=0.0011863\n"
     ]
    },
    {
     "name": "stderr",
     "output_type": "stream",
     "text": [
      "I1202 10:29:05.965847 139864777971520 1772499860.py:76] val Epoch:[143/300]\t loss=0.43218\t acc_hard=0.630 acc_soft=0.903 lr=0.0011863\n"
     ]
    },
    {
     "name": "stderr",
     "output_type": "stream",
     "text": [
      "[2021-12-02 10:29:37,266][line: 76] ==> train Epoch:[144/300]\t loss=0.00841\t acc_hard=0.988 acc_soft=0.998 lr=0.0009776\n"
     ]
    },
    {
     "name": "stderr",
     "output_type": "stream",
     "text": [
      "I1202 10:29:37.266555 139864777971520 1772499860.py:76] train Epoch:[144/300]\t loss=0.00841\t acc_hard=0.988 acc_soft=0.998 lr=0.0009776\n"
     ]
    },
    {
     "name": "stderr",
     "output_type": "stream",
     "text": [
      "[2021-12-02 10:29:41,696][line: 76] ==> val Epoch:[144/300]\t loss=0.43327\t acc_hard=0.630 acc_soft=0.903 lr=0.0009776\n"
     ]
    },
    {
     "name": "stderr",
     "output_type": "stream",
     "text": [
      "I1202 10:29:41.696171 139864777971520 1772499860.py:76] val Epoch:[144/300]\t loss=0.43327\t acc_hard=0.630 acc_soft=0.903 lr=0.0009776\n"
     ]
    },
    {
     "name": "stderr",
     "output_type": "stream",
     "text": [
      "[2021-12-02 10:30:13,178][line: 76] ==> train Epoch:[145/300]\t loss=0.00866\t acc_hard=0.986 acc_soft=0.997 lr=0.0008063\n"
     ]
    },
    {
     "name": "stderr",
     "output_type": "stream",
     "text": [
      "I1202 10:30:13.178450 139864777971520 1772499860.py:76] train Epoch:[145/300]\t loss=0.00866\t acc_hard=0.986 acc_soft=0.997 lr=0.0008063\n"
     ]
    },
    {
     "name": "stderr",
     "output_type": "stream",
     "text": [
      "[2021-12-02 10:30:17,465][line: 76] ==> val Epoch:[145/300]\t loss=0.43193\t acc_hard=0.633 acc_soft=0.903 lr=0.0008063\n"
     ]
    },
    {
     "name": "stderr",
     "output_type": "stream",
     "text": [
      "I1202 10:30:17.465295 139864777971520 1772499860.py:76] val Epoch:[145/300]\t loss=0.43193\t acc_hard=0.633 acc_soft=0.903 lr=0.0008063\n"
     ]
    },
    {
     "name": "stderr",
     "output_type": "stream",
     "text": [
      "[2021-12-02 10:30:48,345][line: 76] ==> train Epoch:[146/300]\t loss=0.00876\t acc_hard=0.986 acc_soft=0.997 lr=0.0006728\n"
     ]
    },
    {
     "name": "stderr",
     "output_type": "stream",
     "text": [
      "I1202 10:30:48.345927 139864777971520 1772499860.py:76] train Epoch:[146/300]\t loss=0.00876\t acc_hard=0.986 acc_soft=0.997 lr=0.0006728\n"
     ]
    },
    {
     "name": "stderr",
     "output_type": "stream",
     "text": [
      "[2021-12-02 10:30:52,728][line: 76] ==> val Epoch:[146/300]\t loss=0.43098\t acc_hard=0.636 acc_soft=0.904 lr=0.0006728\n"
     ]
    },
    {
     "name": "stderr",
     "output_type": "stream",
     "text": [
      "I1202 10:30:52.728213 139864777971520 1772499860.py:76] val Epoch:[146/300]\t loss=0.43098\t acc_hard=0.636 acc_soft=0.904 lr=0.0006728\n"
     ]
    },
    {
     "name": "stderr",
     "output_type": "stream",
     "text": [
      "[2021-12-02 10:31:23,941][line: 76] ==> train Epoch:[147/300]\t loss=0.00915\t acc_hard=0.986 acc_soft=0.997 lr=0.0005771\n"
     ]
    },
    {
     "name": "stderr",
     "output_type": "stream",
     "text": [
      "I1202 10:31:23.941624 139864777971520 1772499860.py:76] train Epoch:[147/300]\t loss=0.00915\t acc_hard=0.986 acc_soft=0.997 lr=0.0005771\n"
     ]
    },
    {
     "name": "stderr",
     "output_type": "stream",
     "text": [
      "[2021-12-02 10:31:28,294][line: 76] ==> val Epoch:[147/300]\t loss=0.43280\t acc_hard=0.633 acc_soft=0.904 lr=0.0005771\n"
     ]
    },
    {
     "name": "stderr",
     "output_type": "stream",
     "text": [
      "I1202 10:31:28.294070 139864777971520 1772499860.py:76] val Epoch:[147/300]\t loss=0.43280\t acc_hard=0.633 acc_soft=0.904 lr=0.0005771\n"
     ]
    },
    {
     "name": "stderr",
     "output_type": "stream",
     "text": [
      "[2021-12-02 10:31:59,939][line: 76] ==> train Epoch:[148/300]\t loss=0.00982\t acc_hard=0.986 acc_soft=0.997 lr=0.0005195\n"
     ]
    },
    {
     "name": "stderr",
     "output_type": "stream",
     "text": [
      "I1202 10:31:59.939577 139864777971520 1772499860.py:76] train Epoch:[148/300]\t loss=0.00982\t acc_hard=0.986 acc_soft=0.997 lr=0.0005195\n"
     ]
    },
    {
     "name": "stderr",
     "output_type": "stream",
     "text": [
      "[2021-12-02 10:32:04,289][line: 76] ==> val Epoch:[148/300]\t loss=0.43320\t acc_hard=0.630 acc_soft=0.903 lr=0.0005195\n"
     ]
    },
    {
     "name": "stderr",
     "output_type": "stream",
     "text": [
      "I1202 10:32:04.289618 139864777971520 1772499860.py:76] val Epoch:[148/300]\t loss=0.43320\t acc_hard=0.630 acc_soft=0.903 lr=0.0005195\n"
     ]
    },
    {
     "name": "stderr",
     "output_type": "stream",
     "text": [
      "[2021-12-02 10:32:35,230][line: 76] ==> train Epoch:[149/300]\t loss=0.00769\t acc_hard=0.988 acc_soft=0.998 lr=0.0005000\n"
     ]
    },
    {
     "name": "stderr",
     "output_type": "stream",
     "text": [
      "I1202 10:32:35.230174 139864777971520 1772499860.py:76] train Epoch:[149/300]\t loss=0.00769\t acc_hard=0.988 acc_soft=0.998 lr=0.0005000\n"
     ]
    },
    {
     "name": "stderr",
     "output_type": "stream",
     "text": [
      "[2021-12-02 10:32:39,546][line: 76] ==> val Epoch:[149/300]\t loss=0.43454\t acc_hard=0.630 acc_soft=0.903 lr=0.0005000\n"
     ]
    },
    {
     "name": "stderr",
     "output_type": "stream",
     "text": [
      "I1202 10:32:39.546066 139864777971520 1772499860.py:76] val Epoch:[149/300]\t loss=0.43454\t acc_hard=0.630 acc_soft=0.903 lr=0.0005000\n"
     ]
    },
    {
     "name": "stderr",
     "output_type": "stream",
     "text": [
      "[2021-12-02 10:33:09,832][line: 76] ==> train Epoch:[150/300]\t loss=0.04008\t acc_hard=0.934 acc_soft=0.986 lr=0.0499953\n"
     ]
    },
    {
     "name": "stderr",
     "output_type": "stream",
     "text": [
      "I1202 10:33:09.832746 139864777971520 1772499860.py:76] train Epoch:[150/300]\t loss=0.04008\t acc_hard=0.934 acc_soft=0.986 lr=0.0499953\n"
     ]
    },
    {
     "name": "stderr",
     "output_type": "stream",
     "text": [
      "[2021-12-02 10:33:14,212][line: 76] ==> val Epoch:[150/300]\t loss=0.71163\t acc_hard=0.463 acc_soft=0.848 lr=0.0499953\n"
     ]
    },
    {
     "name": "stderr",
     "output_type": "stream",
     "text": [
      "I1202 10:33:14.212395 139864777971520 1772499860.py:76] val Epoch:[150/300]\t loss=0.71163\t acc_hard=0.463 acc_soft=0.848 lr=0.0499953\n"
     ]
    },
    {
     "name": "stderr",
     "output_type": "stream",
     "text": [
      "[2021-12-02 10:33:45,855][line: 76] ==> train Epoch:[151/300]\t loss=0.06944\t acc_hard=0.881 acc_soft=0.973 lr=0.0499811\n"
     ]
    },
    {
     "name": "stderr",
     "output_type": "stream",
     "text": [
      "I1202 10:33:45.855268 139864777971520 1772499860.py:76] train Epoch:[151/300]\t loss=0.06944\t acc_hard=0.881 acc_soft=0.973 lr=0.0499811\n"
     ]
    },
    {
     "name": "stderr",
     "output_type": "stream",
     "text": [
      "[2021-12-02 10:33:50,207][line: 76] ==> val Epoch:[151/300]\t loss=0.84186\t acc_hard=0.474 acc_soft=0.843 lr=0.0499811\n"
     ]
    },
    {
     "name": "stderr",
     "output_type": "stream",
     "text": [
      "I1202 10:33:50.207497 139864777971520 1772499860.py:76] val Epoch:[151/300]\t loss=0.84186\t acc_hard=0.474 acc_soft=0.843 lr=0.0499811\n"
     ]
    },
    {
     "name": "stderr",
     "output_type": "stream",
     "text": [
      "[2021-12-02 10:34:22,024][line: 76] ==> train Epoch:[152/300]\t loss=0.08484\t acc_hard=0.864 acc_soft=0.968 lr=0.0499574\n"
     ]
    },
    {
     "name": "stderr",
     "output_type": "stream",
     "text": [
      "I1202 10:34:22.024439 139864777971520 1772499860.py:76] train Epoch:[152/300]\t loss=0.08484\t acc_hard=0.864 acc_soft=0.968 lr=0.0499574\n"
     ]
    },
    {
     "name": "stderr",
     "output_type": "stream",
     "text": [
      "[2021-12-02 10:34:26,346][line: 76] ==> val Epoch:[152/300]\t loss=1.53562\t acc_hard=0.343 acc_soft=0.778 lr=0.0499574\n"
     ]
    },
    {
     "name": "stderr",
     "output_type": "stream",
     "text": [
      "I1202 10:34:26.346186 139864777971520 1772499860.py:76] val Epoch:[152/300]\t loss=1.53562\t acc_hard=0.343 acc_soft=0.778 lr=0.0499574\n"
     ]
    },
    {
     "name": "stderr",
     "output_type": "stream",
     "text": [
      "[2021-12-02 10:34:58,007][line: 76] ==> train Epoch:[153/300]\t loss=0.05437\t acc_hard=0.908 acc_soft=0.980 lr=0.0499241\n"
     ]
    },
    {
     "name": "stderr",
     "output_type": "stream",
     "text": [
      "I1202 10:34:58.007741 139864777971520 1772499860.py:76] train Epoch:[153/300]\t loss=0.05437\t acc_hard=0.908 acc_soft=0.980 lr=0.0499241\n"
     ]
    },
    {
     "name": "stderr",
     "output_type": "stream",
     "text": [
      "[2021-12-02 10:35:02,321][line: 76] ==> val Epoch:[153/300]\t loss=1.22107\t acc_hard=0.313 acc_soft=0.752 lr=0.0499241\n"
     ]
    },
    {
     "name": "stderr",
     "output_type": "stream",
     "text": [
      "I1202 10:35:02.321455 139864777971520 1772499860.py:76] val Epoch:[153/300]\t loss=1.22107\t acc_hard=0.313 acc_soft=0.752 lr=0.0499241\n"
     ]
    },
    {
     "name": "stderr",
     "output_type": "stream",
     "text": [
      "[2021-12-02 10:36:23,022][line: 76] ==> train Epoch:[154/300]\t loss=0.05292\t acc_hard=0.908 acc_soft=0.980 lr=0.0498813\n"
     ]
    },
    {
     "name": "stderr",
     "output_type": "stream",
     "text": [
      "I1202 10:36:23.022626 139864777971520 1772499860.py:76] train Epoch:[154/300]\t loss=0.05292\t acc_hard=0.908 acc_soft=0.980 lr=0.0498813\n"
     ]
    },
    {
     "name": "stderr",
     "output_type": "stream",
     "text": [
      "[2021-12-02 10:36:54,673][line: 76] ==> val Epoch:[154/300]\t loss=0.50256\t acc_hard=0.511 acc_soft=0.853 lr=0.0498813\n"
     ]
    },
    {
     "name": "stderr",
     "output_type": "stream",
     "text": [
      "I1202 10:36:54.673279 139864777971520 1772499860.py:76] val Epoch:[154/300]\t loss=0.50256\t acc_hard=0.511 acc_soft=0.853 lr=0.0498813\n"
     ]
    },
    {
     "name": "stderr",
     "output_type": "stream",
     "text": [
      "[2021-12-02 10:40:50,169][line: 76] ==> train Epoch:[155/300]\t loss=0.05061\t acc_hard=0.915 acc_soft=0.981 lr=0.0498291\n"
     ]
    },
    {
     "name": "stderr",
     "output_type": "stream",
     "text": [
      "I1202 10:40:50.169863 139864777971520 1772499860.py:76] train Epoch:[155/300]\t loss=0.05061\t acc_hard=0.915 acc_soft=0.981 lr=0.0498291\n"
     ]
    },
    {
     "name": "stderr",
     "output_type": "stream",
     "text": [
      "[2021-12-02 10:40:54,521][line: 76] ==> val Epoch:[155/300]\t loss=0.48624\t acc_hard=0.531 acc_soft=0.864 lr=0.0498291\n"
     ]
    },
    {
     "name": "stderr",
     "output_type": "stream",
     "text": [
      "I1202 10:40:54.521939 139864777971520 1772499860.py:76] val Epoch:[155/300]\t loss=0.48624\t acc_hard=0.531 acc_soft=0.864 lr=0.0498291\n"
     ]
    },
    {
     "name": "stderr",
     "output_type": "stream",
     "text": [
      "[2021-12-02 10:41:27,510][line: 76] ==> train Epoch:[156/300]\t loss=0.05062\t acc_hard=0.916 acc_soft=0.981 lr=0.0497673\n"
     ]
    },
    {
     "name": "stderr",
     "output_type": "stream",
     "text": [
      "I1202 10:41:27.510204 139864777971520 1772499860.py:76] train Epoch:[156/300]\t loss=0.05062\t acc_hard=0.916 acc_soft=0.981 lr=0.0497673\n"
     ]
    },
    {
     "name": "stderr",
     "output_type": "stream",
     "text": [
      "[2021-12-02 10:41:31,846][line: 76] ==> val Epoch:[156/300]\t loss=0.35293\t acc_hard=0.614 acc_soft=0.901 lr=0.0497673\n"
     ]
    },
    {
     "name": "stderr",
     "output_type": "stream",
     "text": [
      "I1202 10:41:31.846688 139864777971520 1772499860.py:76] val Epoch:[156/300]\t loss=0.35293\t acc_hard=0.614 acc_soft=0.901 lr=0.0497673\n"
     ]
    },
    {
     "name": "stderr",
     "output_type": "stream",
     "text": [
      "[2021-12-02 10:42:05,961][line: 76] ==> train Epoch:[157/300]\t loss=0.05122\t acc_hard=0.914 acc_soft=0.980 lr=0.0496961\n"
     ]
    },
    {
     "name": "stderr",
     "output_type": "stream",
     "text": [
      "I1202 10:42:05.961656 139864777971520 1772499860.py:76] train Epoch:[157/300]\t loss=0.05122\t acc_hard=0.914 acc_soft=0.980 lr=0.0496961\n"
     ]
    },
    {
     "name": "stderr",
     "output_type": "stream",
     "text": [
      "[2021-12-02 10:42:10,350][line: 76] ==> val Epoch:[157/300]\t loss=0.64822\t acc_hard=0.503 acc_soft=0.846 lr=0.0496961\n"
     ]
    },
    {
     "name": "stderr",
     "output_type": "stream",
     "text": [
      "I1202 10:42:10.350060 139864777971520 1772499860.py:76] val Epoch:[157/300]\t loss=0.64822\t acc_hard=0.503 acc_soft=0.846 lr=0.0496961\n"
     ]
    },
    {
     "name": "stderr",
     "output_type": "stream",
     "text": [
      "[2021-12-02 10:42:41,858][line: 76] ==> train Epoch:[158/300]\t loss=0.04414\t acc_hard=0.928 acc_soft=0.984 lr=0.0496155\n"
     ]
    },
    {
     "name": "stderr",
     "output_type": "stream",
     "text": [
      "I1202 10:42:41.858378 139864777971520 1772499860.py:76] train Epoch:[158/300]\t loss=0.04414\t acc_hard=0.928 acc_soft=0.984 lr=0.0496155\n"
     ]
    },
    {
     "name": "stderr",
     "output_type": "stream",
     "text": [
      "[2021-12-02 10:42:46,214][line: 76] ==> val Epoch:[158/300]\t loss=0.54140\t acc_hard=0.518 acc_soft=0.859 lr=0.0496155\n"
     ]
    },
    {
     "name": "stderr",
     "output_type": "stream",
     "text": [
      "I1202 10:42:46.214596 139864777971520 1772499860.py:76] val Epoch:[158/300]\t loss=0.54140\t acc_hard=0.518 acc_soft=0.859 lr=0.0496155\n"
     ]
    },
    {
     "name": "stderr",
     "output_type": "stream",
     "text": [
      "[2021-12-02 10:43:18,500][line: 76] ==> train Epoch:[159/300]\t loss=0.04918\t acc_hard=0.918 acc_soft=0.981 lr=0.0495254\n"
     ]
    },
    {
     "name": "stderr",
     "output_type": "stream",
     "text": [
      "I1202 10:43:18.500462 139864777971520 1772499860.py:76] train Epoch:[159/300]\t loss=0.04918\t acc_hard=0.918 acc_soft=0.981 lr=0.0495254\n"
     ]
    },
    {
     "name": "stderr",
     "output_type": "stream",
     "text": [
      "[2021-12-02 10:43:22,838][line: 76] ==> val Epoch:[159/300]\t loss=0.45170\t acc_hard=0.578 acc_soft=0.886 lr=0.0495254\n"
     ]
    },
    {
     "name": "stderr",
     "output_type": "stream",
     "text": [
      "I1202 10:43:22.838091 139864777971520 1772499860.py:76] val Epoch:[159/300]\t loss=0.45170\t acc_hard=0.578 acc_soft=0.886 lr=0.0495254\n"
     ]
    },
    {
     "name": "stderr",
     "output_type": "stream",
     "text": [
      "[2021-12-02 10:43:55,234][line: 76] ==> train Epoch:[160/300]\t loss=0.04568\t acc_hard=0.927 acc_soft=0.984 lr=0.0494261\n"
     ]
    },
    {
     "name": "stderr",
     "output_type": "stream",
     "text": [
      "I1202 10:43:55.234793 139864777971520 1772499860.py:76] train Epoch:[160/300]\t loss=0.04568\t acc_hard=0.927 acc_soft=0.984 lr=0.0494261\n"
     ]
    },
    {
     "name": "stderr",
     "output_type": "stream",
     "text": [
      "[2021-12-02 10:43:59,555][line: 76] ==> val Epoch:[160/300]\t loss=0.45250\t acc_hard=0.586 acc_soft=0.882 lr=0.0494261\n"
     ]
    },
    {
     "name": "stderr",
     "output_type": "stream",
     "text": [
      "I1202 10:43:59.555292 139864777971520 1772499860.py:76] val Epoch:[160/300]\t loss=0.45250\t acc_hard=0.586 acc_soft=0.882 lr=0.0494261\n"
     ]
    },
    {
     "name": "stderr",
     "output_type": "stream",
     "text": [
      "[2021-12-02 10:44:31,162][line: 76] ==> train Epoch:[161/300]\t loss=0.04177\t acc_hard=0.933 acc_soft=0.985 lr=0.0493174\n"
     ]
    },
    {
     "name": "stderr",
     "output_type": "stream",
     "text": [
      "I1202 10:44:31.162533 139864777971520 1772499860.py:76] train Epoch:[161/300]\t loss=0.04177\t acc_hard=0.933 acc_soft=0.985 lr=0.0493174\n"
     ]
    },
    {
     "name": "stderr",
     "output_type": "stream",
     "text": [
      "[2021-12-02 10:44:35,505][line: 76] ==> val Epoch:[161/300]\t loss=0.47472\t acc_hard=0.537 acc_soft=0.866 lr=0.0493174\n"
     ]
    },
    {
     "name": "stderr",
     "output_type": "stream",
     "text": [
      "I1202 10:44:35.505384 139864777971520 1772499860.py:76] val Epoch:[161/300]\t loss=0.47472\t acc_hard=0.537 acc_soft=0.866 lr=0.0493174\n"
     ]
    },
    {
     "name": "stderr",
     "output_type": "stream",
     "text": [
      "[2021-12-02 10:45:06,989][line: 76] ==> train Epoch:[162/300]\t loss=0.04148\t acc_hard=0.933 acc_soft=0.985 lr=0.0491994\n"
     ]
    },
    {
     "name": "stderr",
     "output_type": "stream",
     "text": [
      "I1202 10:45:06.989973 139864777971520 1772499860.py:76] train Epoch:[162/300]\t loss=0.04148\t acc_hard=0.933 acc_soft=0.985 lr=0.0491994\n"
     ]
    },
    {
     "name": "stderr",
     "output_type": "stream",
     "text": [
      "[2021-12-02 10:45:11,345][line: 76] ==> val Epoch:[162/300]\t loss=0.43451\t acc_hard=0.578 acc_soft=0.879 lr=0.0491994\n"
     ]
    },
    {
     "name": "stderr",
     "output_type": "stream",
     "text": [
      "I1202 10:45:11.345377 139864777971520 1772499860.py:76] val Epoch:[162/300]\t loss=0.43451\t acc_hard=0.578 acc_soft=0.879 lr=0.0491994\n"
     ]
    },
    {
     "name": "stderr",
     "output_type": "stream",
     "text": [
      "[2021-12-02 10:45:43,088][line: 76] ==> train Epoch:[163/300]\t loss=0.04250\t acc_hard=0.926 acc_soft=0.984 lr=0.0490722\n"
     ]
    },
    {
     "name": "stderr",
     "output_type": "stream",
     "text": [
      "I1202 10:45:43.088705 139864777971520 1772499860.py:76] train Epoch:[163/300]\t loss=0.04250\t acc_hard=0.926 acc_soft=0.984 lr=0.0490722\n"
     ]
    },
    {
     "name": "stderr",
     "output_type": "stream",
     "text": [
      "[2021-12-02 10:45:47,369][line: 76] ==> val Epoch:[163/300]\t loss=0.39155\t acc_hard=0.638 acc_soft=0.902 lr=0.0490722\n"
     ]
    },
    {
     "name": "stderr",
     "output_type": "stream",
     "text": [
      "I1202 10:45:47.369099 139864777971520 1772499860.py:76] val Epoch:[163/300]\t loss=0.39155\t acc_hard=0.638 acc_soft=0.902 lr=0.0490722\n"
     ]
    },
    {
     "name": "stderr",
     "output_type": "stream",
     "text": [
      "[2021-12-02 10:46:20,479][line: 76] ==> train Epoch:[164/300]\t loss=0.04291\t acc_hard=0.927 acc_soft=0.984 lr=0.0489358\n"
     ]
    },
    {
     "name": "stderr",
     "output_type": "stream",
     "text": [
      "I1202 10:46:20.479613 139864777971520 1772499860.py:76] train Epoch:[164/300]\t loss=0.04291\t acc_hard=0.927 acc_soft=0.984 lr=0.0489358\n"
     ]
    },
    {
     "name": "stderr",
     "output_type": "stream",
     "text": [
      "[2021-12-02 10:46:24,852][line: 76] ==> val Epoch:[164/300]\t loss=0.50031\t acc_hard=0.563 acc_soft=0.879 lr=0.0489358\n"
     ]
    },
    {
     "name": "stderr",
     "output_type": "stream",
     "text": [
      "I1202 10:46:24.852380 139864777971520 1772499860.py:76] val Epoch:[164/300]\t loss=0.50031\t acc_hard=0.563 acc_soft=0.879 lr=0.0489358\n"
     ]
    },
    {
     "name": "stderr",
     "output_type": "stream",
     "text": [
      "[2021-12-02 10:46:56,078][line: 76] ==> train Epoch:[165/300]\t loss=0.04607\t acc_hard=0.929 acc_soft=0.984 lr=0.0487902\n"
     ]
    },
    {
     "name": "stderr",
     "output_type": "stream",
     "text": [
      "I1202 10:46:56.078775 139864777971520 1772499860.py:76] train Epoch:[165/300]\t loss=0.04607\t acc_hard=0.929 acc_soft=0.984 lr=0.0487902\n"
     ]
    },
    {
     "name": "stderr",
     "output_type": "stream",
     "text": [
      "[2021-12-02 10:47:00,451][line: 76] ==> val Epoch:[165/300]\t loss=0.45689\t acc_hard=0.549 acc_soft=0.870 lr=0.0487902\n"
     ]
    },
    {
     "name": "stderr",
     "output_type": "stream",
     "text": [
      "I1202 10:47:00.451095 139864777971520 1772499860.py:76] val Epoch:[165/300]\t loss=0.45689\t acc_hard=0.549 acc_soft=0.870 lr=0.0487902\n"
     ]
    },
    {
     "name": "stderr",
     "output_type": "stream",
     "text": [
      "[2021-12-02 10:47:31,595][line: 76] ==> train Epoch:[166/300]\t loss=0.03655\t acc_hard=0.934 acc_soft=0.986 lr=0.0486356\n"
     ]
    },
    {
     "name": "stderr",
     "output_type": "stream",
     "text": [
      "I1202 10:47:31.595725 139864777971520 1772499860.py:76] train Epoch:[166/300]\t loss=0.03655\t acc_hard=0.934 acc_soft=0.986 lr=0.0486356\n"
     ]
    },
    {
     "name": "stderr",
     "output_type": "stream",
     "text": [
      "[2021-12-02 10:47:35,996][line: 76] ==> val Epoch:[166/300]\t loss=0.52304\t acc_hard=0.523 acc_soft=0.861 lr=0.0486356\n"
     ]
    },
    {
     "name": "stderr",
     "output_type": "stream",
     "text": [
      "I1202 10:47:35.996756 139864777971520 1772499860.py:76] val Epoch:[166/300]\t loss=0.52304\t acc_hard=0.523 acc_soft=0.861 lr=0.0486356\n"
     ]
    },
    {
     "name": "stderr",
     "output_type": "stream",
     "text": [
      "[2021-12-02 10:48:07,020][line: 76] ==> train Epoch:[167/300]\t loss=0.03499\t acc_hard=0.943 acc_soft=0.987 lr=0.0484720\n"
     ]
    },
    {
     "name": "stderr",
     "output_type": "stream",
     "text": [
      "I1202 10:48:07.020108 139864777971520 1772499860.py:76] train Epoch:[167/300]\t loss=0.03499\t acc_hard=0.943 acc_soft=0.987 lr=0.0484720\n"
     ]
    },
    {
     "name": "stderr",
     "output_type": "stream",
     "text": [
      "[2021-12-02 10:48:11,410][line: 76] ==> val Epoch:[167/300]\t loss=0.44309\t acc_hard=0.625 acc_soft=0.903 lr=0.0484720\n"
     ]
    },
    {
     "name": "stderr",
     "output_type": "stream",
     "text": [
      "I1202 10:48:11.410850 139864777971520 1772499860.py:76] val Epoch:[167/300]\t loss=0.44309\t acc_hard=0.625 acc_soft=0.903 lr=0.0484720\n"
     ]
    },
    {
     "name": "stderr",
     "output_type": "stream",
     "text": [
      "[2021-12-02 10:48:44,383][line: 76] ==> train Epoch:[168/300]\t loss=0.03617\t acc_hard=0.939 acc_soft=0.987 lr=0.0482995\n"
     ]
    },
    {
     "name": "stderr",
     "output_type": "stream",
     "text": [
      "I1202 10:48:44.383266 139864777971520 1772499860.py:76] train Epoch:[168/300]\t loss=0.03617\t acc_hard=0.939 acc_soft=0.987 lr=0.0482995\n"
     ]
    },
    {
     "name": "stderr",
     "output_type": "stream",
     "text": [
      "[2021-12-02 10:48:48,714][line: 76] ==> val Epoch:[168/300]\t loss=0.45294\t acc_hard=0.596 acc_soft=0.888 lr=0.0482995\n"
     ]
    },
    {
     "name": "stderr",
     "output_type": "stream",
     "text": [
      "I1202 10:48:48.714406 139864777971520 1772499860.py:76] val Epoch:[168/300]\t loss=0.45294\t acc_hard=0.596 acc_soft=0.888 lr=0.0482995\n"
     ]
    },
    {
     "name": "stderr",
     "output_type": "stream",
     "text": [
      "[2021-12-02 10:49:19,662][line: 76] ==> train Epoch:[169/300]\t loss=0.04032\t acc_hard=0.934 acc_soft=0.985 lr=0.0481180\n"
     ]
    },
    {
     "name": "stderr",
     "output_type": "stream",
     "text": [
      "I1202 10:49:19.662366 139864777971520 1772499860.py:76] train Epoch:[169/300]\t loss=0.04032\t acc_hard=0.934 acc_soft=0.985 lr=0.0481180\n"
     ]
    },
    {
     "name": "stderr",
     "output_type": "stream",
     "text": [
      "[2021-12-02 10:49:24,072][line: 76] ==> val Epoch:[169/300]\t loss=0.43127\t acc_hard=0.599 acc_soft=0.889 lr=0.0481180\n"
     ]
    },
    {
     "name": "stderr",
     "output_type": "stream",
     "text": [
      "I1202 10:49:24.072659 139864777971520 1772499860.py:76] val Epoch:[169/300]\t loss=0.43127\t acc_hard=0.599 acc_soft=0.889 lr=0.0481180\n"
     ]
    },
    {
     "name": "stderr",
     "output_type": "stream",
     "text": [
      "[2021-12-02 10:49:56,434][line: 76] ==> train Epoch:[170/300]\t loss=0.03820\t acc_hard=0.935 acc_soft=0.986 lr=0.0479277\n"
     ]
    },
    {
     "name": "stderr",
     "output_type": "stream",
     "text": [
      "I1202 10:49:56.434902 139864777971520 1772499860.py:76] train Epoch:[170/300]\t loss=0.03820\t acc_hard=0.935 acc_soft=0.986 lr=0.0479277\n"
     ]
    },
    {
     "name": "stderr",
     "output_type": "stream",
     "text": [
      "[2021-12-02 10:50:00,818][line: 76] ==> val Epoch:[170/300]\t loss=0.45496\t acc_hard=0.604 acc_soft=0.891 lr=0.0479277\n"
     ]
    },
    {
     "name": "stderr",
     "output_type": "stream",
     "text": [
      "I1202 10:50:00.818686 139864777971520 1772499860.py:76] val Epoch:[170/300]\t loss=0.45496\t acc_hard=0.604 acc_soft=0.891 lr=0.0479277\n"
     ]
    },
    {
     "name": "stderr",
     "output_type": "stream",
     "text": [
      "[2021-12-02 10:50:34,289][line: 76] ==> train Epoch:[171/300]\t loss=0.03637\t acc_hard=0.939 acc_soft=0.987 lr=0.0477287\n"
     ]
    },
    {
     "name": "stderr",
     "output_type": "stream",
     "text": [
      "I1202 10:50:34.289479 139864777971520 1772499860.py:76] train Epoch:[171/300]\t loss=0.03637\t acc_hard=0.939 acc_soft=0.987 lr=0.0477287\n"
     ]
    },
    {
     "name": "stderr",
     "output_type": "stream",
     "text": [
      "[2021-12-02 10:50:38,575][line: 76] ==> val Epoch:[171/300]\t loss=0.47782\t acc_hard=0.571 acc_soft=0.878 lr=0.0477287\n"
     ]
    },
    {
     "name": "stderr",
     "output_type": "stream",
     "text": [
      "I1202 10:50:38.575996 139864777971520 1772499860.py:76] val Epoch:[171/300]\t loss=0.47782\t acc_hard=0.571 acc_soft=0.878 lr=0.0477287\n"
     ]
    }
   ],
   "source": [
    "n=1\n",
    "resume = False\n",
    "logger = log_creater(\"./train_log\")\n",
    "#grid search \n",
    "for batch_size in [16,32,64,128]:\n",
    "    patch_size = 224\n",
    "    dataLoader = getDataSet(patch_size, batch_size)\n",
    "    for lr in [(1e-1,1e-5), (5e-2,5e-4),(1e-2,1e-5)]:\n",
    "        \n",
    "        root_dir = './' + str(batch_size) + '-' + str(patch_size) + '-' + str(lr[0])\n",
    "        if not os.path.isdir(root_dir):\n",
    "            os.mkdir(root_dir)\n",
    "        logger.info(\"batch_size:\" + str(batch_size))\n",
    "        logger.info(\"patch_size:\" + str(patch_size))\n",
    "        logger.info(\"learning rate high:\" + str(lr[0]))\n",
    "        logger.info(\"learning rate low:\" + str(lr[1]))\n",
    "        model = EfficientNet()\n",
    "        device = torch.device(\"cuda\" if torch.cuda.is_available() else \"cpu\")\n",
    "        model._initialize_weights()\n",
    "        if torch.cuda.is_available():\n",
    "            model = model.to(device)\n",
    "        lr_h = lr[0]\n",
    "        lr_l = lr[1]\n",
    "        # do a step in grid search\n",
    "        train(root_dir, model, logger, lr_h, lr_l, dataLoader, num_epochs = 50, resume=resume, \n",
    "checkpoint = \"/checkpoint/ckpt_best_80.pth\", device = device)\n",
    "        resume = False\n",
    "\n",
    "\n"
   ]
  },
  {
   "cell_type": "code",
   "execution_count": null,
   "id": "11a887b9-3e11-4135-a18e-1859fb0286b3",
   "metadata": {
    "collapsed": false,
    "gradient": {
     "editing": false,
     "id": "11a887b9-3e11-4135-a18e-1859fb0286b3",
     "kernelId": "60bf829a-817f-404b-ae4f-7dc622d1116a",
     "source_hidden": false
    }
   },
   "outputs": [],
   "source": []
  }
 ],
 "metadata": {
  "kernelspec": {
   "display_name": "Python 3 (ipykernel)",
   "language": "python",
   "name": "python3"
  },
  "language_info": {
   "codemirror_mode": {
    "name": "ipython",
    "version": 3
   },
   "file_extension": ".py",
   "mimetype": "text/x-python",
   "name": "python",
   "nbconvert_exporter": "python",
   "pygments_lexer": "ipython3",
   "version": "3.8.12"
  }
 },
 "nbformat": 4,
 "nbformat_minor": 5
}
